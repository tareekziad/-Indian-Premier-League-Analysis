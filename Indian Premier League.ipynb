{
 "cells": [
  {
   "cell_type": "markdown",
   "id": "12818d36",
   "metadata": {},
   "source": [
    "# Task 5 At The Spark Foundation Intern"
   ]
  },
  {
   "cell_type": "markdown",
   "id": "eb26d858",
   "metadata": {},
   "source": [
    "### BI Reprot : \n",
    "https://app.powerbi.com/reportEmbed?reportId=05eaab75-ce18-42fd-9870-b8413fadd4a8&autoAuth=true&ctid=6845d6ca-1ec5-4c0e-9e9d-34130ce0a0b8"
   ]
  },
  {
   "cell_type": "markdown",
   "id": "b6c76fc2",
   "metadata": {},
   "source": [
    "### Import Helper Libraries "
   ]
  },
  {
   "cell_type": "code",
   "execution_count": 400,
   "id": "842f97ea",
   "metadata": {},
   "outputs": [],
   "source": [
    "import pandas as pd \n",
    "import numpy as np \n",
    "import seaborn as sns \n",
    "import matplotlib.pyplot as plt\n",
    "import warnings"
   ]
  },
  {
   "cell_type": "code",
   "execution_count": 102,
   "id": "0f624c01",
   "metadata": {},
   "outputs": [],
   "source": [
    "warnings.filterwarnings('ignore')"
   ]
  },
  {
   "cell_type": "code",
   "execution_count": 132,
   "id": "34c19d1c",
   "metadata": {},
   "outputs": [],
   "source": [
    "sns.set_theme(context = 'notebook' , style = 'whitegrid'  , palette = 'Paired' , rc = {'figure.figsize' : (10 , 4)})"
   ]
  },
  {
   "cell_type": "markdown",
   "id": "c4c78d78",
   "metadata": {},
   "source": [
    "### Read The Two Datasets "
   ]
  },
  {
   "cell_type": "code",
   "execution_count": 141,
   "id": "f60b0d69",
   "metadata": {},
   "outputs": [],
   "source": [
    "matches = pd.read_csv('matches.csv')\n",
    "deliveries = pd.read_csv('deliveries.csv')"
   ]
  },
  {
   "cell_type": "markdown",
   "id": "b1fd0c47",
   "metadata": {},
   "source": [
    "### Check Matches Info Dataset For Missing Values & DataTypes Representation"
   ]
  },
  {
   "cell_type": "code",
   "execution_count": 142,
   "id": "c4ec60f8",
   "metadata": {},
   "outputs": [
    {
     "name": "stdout",
     "output_type": "stream",
     "text": [
      "<class 'pandas.core.frame.DataFrame'>\n",
      "RangeIndex: 756 entries, 0 to 755\n",
      "Data columns (total 18 columns):\n",
      " #   Column           Non-Null Count  Dtype \n",
      "---  ------           --------------  ----- \n",
      " 0   id               756 non-null    int64 \n",
      " 1   season           756 non-null    int64 \n",
      " 2   city             749 non-null    object\n",
      " 3   date             756 non-null    object\n",
      " 4   team1            756 non-null    object\n",
      " 5   team2            756 non-null    object\n",
      " 6   toss_winner      756 non-null    object\n",
      " 7   toss_decision    756 non-null    object\n",
      " 8   result           756 non-null    object\n",
      " 9   dl_applied       756 non-null    int64 \n",
      " 10  winner           752 non-null    object\n",
      " 11  win_by_runs      756 non-null    int64 \n",
      " 12  win_by_wickets   756 non-null    int64 \n",
      " 13  player_of_match  752 non-null    object\n",
      " 14  venue            756 non-null    object\n",
      " 15  umpire1          754 non-null    object\n",
      " 16  umpire2          754 non-null    object\n",
      " 17  umpire3          119 non-null    object\n",
      "dtypes: int64(5), object(13)\n",
      "memory usage: 106.4+ KB\n"
     ]
    }
   ],
   "source": [
    "matches.info()"
   ]
  },
  {
   "cell_type": "markdown",
   "id": "250ec86c",
   "metadata": {},
   "source": [
    "### Feature With High Percentage Of Missing Records Will Drop (umpire3)"
   ]
  },
  {
   "cell_type": "code",
   "execution_count": 143,
   "id": "3adea0c9",
   "metadata": {},
   "outputs": [
    {
     "data": {
      "text/plain": [
       "id                  0.000000\n",
       "season              0.000000\n",
       "city                0.925926\n",
       "date                0.000000\n",
       "team1               0.000000\n",
       "team2               0.000000\n",
       "toss_winner         0.000000\n",
       "toss_decision       0.000000\n",
       "result              0.000000\n",
       "dl_applied          0.000000\n",
       "winner              0.529101\n",
       "win_by_runs         0.000000\n",
       "win_by_wickets      0.000000\n",
       "player_of_match     0.529101\n",
       "venue               0.000000\n",
       "umpire1             0.264550\n",
       "umpire2             0.264550\n",
       "umpire3            84.259259\n",
       "dtype: float64"
      ]
     },
     "execution_count": 143,
     "metadata": {},
     "output_type": "execute_result"
    }
   ],
   "source": [
    "matches.isnull().mean()*100"
   ]
  },
  {
   "cell_type": "code",
   "execution_count": 144,
   "id": "8570f95f",
   "metadata": {},
   "outputs": [],
   "source": [
    "matches.drop(['umpire3'] , axis = 1 , inplace = True)"
   ]
  },
  {
   "cell_type": "markdown",
   "id": "720db2c1",
   "metadata": {},
   "source": [
    "### Drop Missing Records With Low Percentage Of Missing "
   ]
  },
  {
   "cell_type": "code",
   "execution_count": 145,
   "id": "7fb672c8",
   "metadata": {},
   "outputs": [],
   "source": [
    "matches.dropna(subset = ['city' , 'winner' , 'player_of_match' , 'umpire1' , 'umpire2'] , axis = 0 , inplace = True)"
   ]
  },
  {
   "cell_type": "markdown",
   "id": "cc93b75a",
   "metadata": {},
   "source": [
    "### Check Deliveries Info Dataset For Missing Values & DataTypes Representation"
   ]
  },
  {
   "cell_type": "code",
   "execution_count": 146,
   "id": "bf475959",
   "metadata": {},
   "outputs": [
    {
     "name": "stdout",
     "output_type": "stream",
     "text": [
      "<class 'pandas.core.frame.DataFrame'>\n",
      "RangeIndex: 179078 entries, 0 to 179077\n",
      "Data columns (total 21 columns):\n",
      " #   Column            Non-Null Count   Dtype \n",
      "---  ------            --------------   ----- \n",
      " 0   match_id          179078 non-null  int64 \n",
      " 1   inning            179078 non-null  int64 \n",
      " 2   batting_team      179078 non-null  object\n",
      " 3   bowling_team      179078 non-null  object\n",
      " 4   over              179078 non-null  int64 \n",
      " 5   ball              179078 non-null  int64 \n",
      " 6   batsman           179078 non-null  object\n",
      " 7   non_striker       179078 non-null  object\n",
      " 8   bowler            179078 non-null  object\n",
      " 9   is_super_over     179078 non-null  int64 \n",
      " 10  wide_runs         179078 non-null  int64 \n",
      " 11  bye_runs          179078 non-null  int64 \n",
      " 12  legbye_runs       179078 non-null  int64 \n",
      " 13  noball_runs       179078 non-null  int64 \n",
      " 14  penalty_runs      179078 non-null  int64 \n",
      " 15  batsman_runs      179078 non-null  int64 \n",
      " 16  extra_runs        179078 non-null  int64 \n",
      " 17  total_runs        179078 non-null  int64 \n",
      " 18  player_dismissed  8834 non-null    object\n",
      " 19  dismissal_kind    8834 non-null    object\n",
      " 20  fielder           6448 non-null    object\n",
      "dtypes: int64(13), object(8)\n",
      "memory usage: 28.7+ MB\n"
     ]
    }
   ],
   "source": [
    "deliveries.info()"
   ]
  },
  {
   "cell_type": "markdown",
   "id": "6ab501b3",
   "metadata": {},
   "source": [
    "### Feature With High Percentage Of Missing Records Will Drop (player_dismissed , dismissal_kind , fielder)"
   ]
  },
  {
   "cell_type": "code",
   "execution_count": 147,
   "id": "9ea495ec",
   "metadata": {},
   "outputs": [
    {
     "data": {
      "text/plain": [
       "match_id             0.000000\n",
       "inning               0.000000\n",
       "batting_team         0.000000\n",
       "bowling_team         0.000000\n",
       "over                 0.000000\n",
       "ball                 0.000000\n",
       "batsman              0.000000\n",
       "non_striker          0.000000\n",
       "bowler               0.000000\n",
       "is_super_over        0.000000\n",
       "wide_runs            0.000000\n",
       "bye_runs             0.000000\n",
       "legbye_runs          0.000000\n",
       "noball_runs          0.000000\n",
       "penalty_runs         0.000000\n",
       "batsman_runs         0.000000\n",
       "extra_runs           0.000000\n",
       "total_runs           0.000000\n",
       "player_dismissed    95.066954\n",
       "dismissal_kind      95.066954\n",
       "fielder             96.399334\n",
       "dtype: float64"
      ]
     },
     "execution_count": 147,
     "metadata": {},
     "output_type": "execute_result"
    }
   ],
   "source": [
    "deliveries.isnull().mean()*100"
   ]
  },
  {
   "cell_type": "code",
   "execution_count": 148,
   "id": "df332a6e",
   "metadata": {},
   "outputs": [],
   "source": [
    "deliveries.drop(['player_dismissed' , 'dismissal_kind' , 'fielder'] , axis = 1 , inplace = True)"
   ]
  },
  {
   "cell_type": "markdown",
   "id": "79ff5a60",
   "metadata": {},
   "source": [
    "### Join The Two Datasets (Inner Join) On Mathch_Id"
   ]
  },
  {
   "cell_type": "code",
   "execution_count": 149,
   "id": "7e89d611",
   "metadata": {},
   "outputs": [],
   "source": [
    "df = pd.merge(left = matches , right = deliveries , how = 'inner' , left_on = 'id' , right_on = 'match_id')"
   ]
  },
  {
   "cell_type": "code",
   "execution_count": 150,
   "id": "f832fcd5",
   "metadata": {},
   "outputs": [],
   "source": [
    "df.drop(['match_id'] , axis = 1 , inplace = True)"
   ]
  },
  {
   "cell_type": "code",
   "execution_count": 151,
   "id": "62d71b4b",
   "metadata": {},
   "outputs": [
    {
     "name": "stdout",
     "output_type": "stream",
     "text": [
      "<class 'pandas.core.frame.DataFrame'>\n",
      "Int64Index: 176506 entries, 0 to 176505\n",
      "Data columns (total 34 columns):\n",
      " #   Column           Non-Null Count   Dtype \n",
      "---  ------           --------------   ----- \n",
      " 0   id               176506 non-null  int64 \n",
      " 1   season           176506 non-null  int64 \n",
      " 2   city             176506 non-null  object\n",
      " 3   date             176506 non-null  object\n",
      " 4   team1            176506 non-null  object\n",
      " 5   team2            176506 non-null  object\n",
      " 6   toss_winner      176506 non-null  object\n",
      " 7   toss_decision    176506 non-null  object\n",
      " 8   result           176506 non-null  object\n",
      " 9   dl_applied       176506 non-null  int64 \n",
      " 10  winner           176506 non-null  object\n",
      " 11  win_by_runs      176506 non-null  int64 \n",
      " 12  win_by_wickets   176506 non-null  int64 \n",
      " 13  player_of_match  176506 non-null  object\n",
      " 14  venue            176506 non-null  object\n",
      " 15  umpire1          176506 non-null  object\n",
      " 16  umpire2          176506 non-null  object\n",
      " 17  inning           176506 non-null  int64 \n",
      " 18  batting_team     176506 non-null  object\n",
      " 19  bowling_team     176506 non-null  object\n",
      " 20  over             176506 non-null  int64 \n",
      " 21  ball             176506 non-null  int64 \n",
      " 22  batsman          176506 non-null  object\n",
      " 23  non_striker      176506 non-null  object\n",
      " 24  bowler           176506 non-null  object\n",
      " 25  is_super_over    176506 non-null  int64 \n",
      " 26  wide_runs        176506 non-null  int64 \n",
      " 27  bye_runs         176506 non-null  int64 \n",
      " 28  legbye_runs      176506 non-null  int64 \n",
      " 29  noball_runs      176506 non-null  int64 \n",
      " 30  penalty_runs     176506 non-null  int64 \n",
      " 31  batsman_runs     176506 non-null  int64 \n",
      " 32  extra_runs       176506 non-null  int64 \n",
      " 33  total_runs       176506 non-null  int64 \n",
      "dtypes: int64(17), object(17)\n",
      "memory usage: 47.1+ MB\n"
     ]
    }
   ],
   "source": [
    "df.info()"
   ]
  },
  {
   "cell_type": "markdown",
   "id": "7c206699",
   "metadata": {},
   "source": [
    "### Doing Some Univariate Analysis To Understand Our Feature "
   ]
  },
  {
   "cell_type": "code",
   "execution_count": 152,
   "id": "523d1bab",
   "metadata": {
    "scrolled": true
   },
   "outputs": [
    {
     "data": {
      "text/plain": [
       "Index(['id', 'season', 'city', 'date', 'team1', 'team2', 'toss_winner',\n",
       "       'toss_decision', 'result', 'dl_applied', 'winner', 'win_by_runs',\n",
       "       'win_by_wickets', 'player_of_match', 'venue', 'umpire1', 'umpire2',\n",
       "       'inning', 'batting_team', 'bowling_team', 'over', 'ball', 'batsman',\n",
       "       'non_striker', 'bowler', 'is_super_over', 'wide_runs', 'bye_runs',\n",
       "       'legbye_runs', 'noball_runs', 'penalty_runs', 'batsman_runs',\n",
       "       'extra_runs', 'total_runs'],\n",
       "      dtype='object')"
      ]
     },
     "execution_count": 152,
     "metadata": {},
     "output_type": "execute_result"
    }
   ],
   "source": [
    "df.columns"
   ]
  },
  {
   "cell_type": "code",
   "execution_count": 153,
   "id": "6522deaf",
   "metadata": {},
   "outputs": [
    {
     "data": {
      "text/plain": [
       "[2008, 2009, 2010, 2011, 2012, 2013, 2014, 2015, 2016, 2017, 2018, 2019]"
      ]
     },
     "execution_count": 153,
     "metadata": {},
     "output_type": "execute_result"
    }
   ],
   "source": [
    "sorted(df['season'].unique())"
   ]
  },
  {
   "cell_type": "code",
   "execution_count": 154,
   "id": "f00cd97a",
   "metadata": {},
   "outputs": [
    {
     "data": {
      "text/plain": [
       "<AxesSubplot:xlabel='season', ylabel='count'>"
      ]
     },
     "execution_count": 154,
     "metadata": {},
     "output_type": "execute_result"
    },
    {
     "data": {
      "image/png": "[encoded data removed]",
      "text/plain": [
       "<Figure size 720x288 with 1 Axes>"
      ]
     },
     "metadata": {},
     "output_type": "display_data"
    }
   ],
   "source": [
    "sns.countplot(df['season'])"
   ]
  },
  {
   "cell_type": "code",
   "execution_count": 155,
   "id": "cd06c4b5",
   "metadata": {},
   "outputs": [
    {
     "data": {
      "text/plain": [
       "['Abu Dhabi',\n",
       " 'Ahmedabad',\n",
       " 'Bangalore',\n",
       " 'Bengaluru',\n",
       " 'Bloemfontein',\n",
       " 'Cape Town',\n",
       " 'Centurion',\n",
       " 'Chandigarh',\n",
       " 'Chennai',\n",
       " 'Cuttack',\n",
       " 'Delhi',\n",
       " 'Dharamsala',\n",
       " 'Durban',\n",
       " 'East London',\n",
       " 'Hyderabad',\n",
       " 'Indore',\n",
       " 'Jaipur',\n",
       " 'Johannesburg',\n",
       " 'Kanpur',\n",
       " 'Kimberley',\n",
       " 'Kochi',\n",
       " 'Kolkata',\n",
       " 'Mohali',\n",
       " 'Mumbai',\n",
       " 'Nagpur',\n",
       " 'Port Elizabeth',\n",
       " 'Pune',\n",
       " 'Raipur',\n",
       " 'Rajkot',\n",
       " 'Ranchi',\n",
       " 'Sharjah',\n",
       " 'Visakhapatnam']"
      ]
     },
     "execution_count": 155,
     "metadata": {},
     "output_type": "execute_result"
    }
   ],
   "source": [
    "sorted(df['city'].unique())"
   ]
  },
  {
   "cell_type": "code",
   "execution_count": 156,
   "id": "76c6b433",
   "metadata": {},
   "outputs": [
    {
     "data": {
      "text/plain": [
       "0         2017-04-05\n",
       "1         2017-04-05\n",
       "2         2017-04-05\n",
       "3         2017-04-05\n",
       "4         2017-04-05\n",
       "             ...    \n",
       "176501      12/05/19\n",
       "176502      12/05/19\n",
       "176503      12/05/19\n",
       "176504      12/05/19\n",
       "176505      12/05/19\n",
       "Name: date, Length: 176506, dtype: object"
      ]
     },
     "execution_count": 156,
     "metadata": {},
     "output_type": "execute_result"
    }
   ],
   "source": [
    "df['date']"
   ]
  },
  {
   "cell_type": "code",
   "execution_count": 157,
   "id": "7ea14a3b",
   "metadata": {},
   "outputs": [],
   "source": [
    "df['date'] = pd.to_datetime(df['date'] , errors = 'coerce')"
   ]
  },
  {
   "cell_type": "code",
   "execution_count": 158,
   "id": "c6b30658",
   "metadata": {},
   "outputs": [
    {
     "data": {
      "text/plain": [
       "0        2017-04-05\n",
       "1        2017-04-05\n",
       "2        2017-04-05\n",
       "3        2017-04-05\n",
       "4        2017-04-05\n",
       "            ...    \n",
       "176501   2019-12-05\n",
       "176502   2019-12-05\n",
       "176503   2019-12-05\n",
       "176504   2019-12-05\n",
       "176505   2019-12-05\n",
       "Name: date, Length: 176506, dtype: datetime64[ns]"
      ]
     },
     "execution_count": 158,
     "metadata": {},
     "output_type": "execute_result"
    }
   ],
   "source": [
    "df['date']"
   ]
  },
  {
   "cell_type": "code",
   "execution_count": 159,
   "id": "d41b4c08",
   "metadata": {},
   "outputs": [
    {
     "data": {
      "text/plain": [
       "['Chennai Super Kings',\n",
       " 'Deccan Chargers',\n",
       " 'Delhi Capitals',\n",
       " 'Delhi Daredevils',\n",
       " 'Gujarat Lions',\n",
       " 'Kings XI Punjab',\n",
       " 'Kochi Tuskers Kerala',\n",
       " 'Kolkata Knight Riders',\n",
       " 'Mumbai Indians',\n",
       " 'Pune Warriors',\n",
       " 'Rajasthan Royals',\n",
       " 'Rising Pune Supergiant',\n",
       " 'Rising Pune Supergiants',\n",
       " 'Royal Challengers Bangalore',\n",
       " 'Sunrisers Hyderabad']"
      ]
     },
     "execution_count": 159,
     "metadata": {},
     "output_type": "execute_result"
    }
   ],
   "source": [
    "sorted(df['team1'].unique())"
   ]
  },
  {
   "cell_type": "code",
   "execution_count": 160,
   "id": "0d36ca80",
   "metadata": {},
   "outputs": [
    {
     "data": {
      "text/plain": [
       "['Chennai Super Kings',\n",
       " 'Deccan Chargers',\n",
       " 'Delhi Capitals',\n",
       " 'Delhi Daredevils',\n",
       " 'Gujarat Lions',\n",
       " 'Kings XI Punjab',\n",
       " 'Kochi Tuskers Kerala',\n",
       " 'Kolkata Knight Riders',\n",
       " 'Mumbai Indians',\n",
       " 'Pune Warriors',\n",
       " 'Rajasthan Royals',\n",
       " 'Rising Pune Supergiant',\n",
       " 'Rising Pune Supergiants',\n",
       " 'Royal Challengers Bangalore',\n",
       " 'Sunrisers Hyderabad']"
      ]
     },
     "execution_count": 160,
     "metadata": {},
     "output_type": "execute_result"
    }
   ],
   "source": [
    "sorted(df['team2'].unique())"
   ]
  },
  {
   "cell_type": "code",
   "execution_count": 161,
   "id": "55aff322",
   "metadata": {},
   "outputs": [
    {
     "data": {
      "text/plain": [
       "['Chennai Super Kings',\n",
       " 'Deccan Chargers',\n",
       " 'Delhi Capitals',\n",
       " 'Delhi Daredevils',\n",
       " 'Gujarat Lions',\n",
       " 'Kings XI Punjab',\n",
       " 'Kochi Tuskers Kerala',\n",
       " 'Kolkata Knight Riders',\n",
       " 'Mumbai Indians',\n",
       " 'Pune Warriors',\n",
       " 'Rajasthan Royals',\n",
       " 'Rising Pune Supergiant',\n",
       " 'Rising Pune Supergiants',\n",
       " 'Royal Challengers Bangalore',\n",
       " 'Sunrisers Hyderabad']"
      ]
     },
     "execution_count": 161,
     "metadata": {},
     "output_type": "execute_result"
    }
   ],
   "source": [
    "sorted(df['toss_winner'].unique())"
   ]
  },
  {
   "cell_type": "code",
   "execution_count": 162,
   "id": "f1a3720a",
   "metadata": {},
   "outputs": [
    {
     "data": {
      "text/plain": [
       "<AxesSubplot:xlabel='count', ylabel='toss_winner'>"
      ]
     },
     "execution_count": 162,
     "metadata": {},
     "output_type": "execute_result"
    },
    {
     "data": {
      "image/png": "[encoded data removed]",
      "text/plain": [
       "<Figure size 720x288 with 1 Axes>"
      ]
     },
     "metadata": {},
     "output_type": "display_data"
    }
   ],
   "source": [
    "sns.countplot( y = df['toss_winner'])"
   ]
  },
  {
   "cell_type": "code",
   "execution_count": 163,
   "id": "3c4b9c91",
   "metadata": {
    "scrolled": true
   },
   "outputs": [
    {
     "data": {
      "text/plain": [
       "array(['field', 'bat'], dtype=object)"
      ]
     },
     "execution_count": 163,
     "metadata": {},
     "output_type": "execute_result"
    }
   ],
   "source": [
    "df['toss_decision'].unique()"
   ]
  },
  {
   "cell_type": "code",
   "execution_count": 164,
   "id": "8388354c",
   "metadata": {},
   "outputs": [
    {
     "data": {
      "text/plain": [
       "<AxesSubplot:xlabel='toss_decision', ylabel='count'>"
      ]
     },
     "execution_count": 164,
     "metadata": {},
     "output_type": "execute_result"
    },
    {
     "data": {
      "image/png": "[encoded data removed]",
      "text/plain": [
       "<Figure size 720x288 with 1 Axes>"
      ]
     },
     "metadata": {},
     "output_type": "display_data"
    }
   ],
   "source": [
    "sns.countplot(df['toss_decision'])"
   ]
  },
  {
   "cell_type": "code",
   "execution_count": 165,
   "id": "f1fd1b8d",
   "metadata": {},
   "outputs": [
    {
     "data": {
      "text/plain": [
       "array(['normal', 'tie'], dtype=object)"
      ]
     },
     "execution_count": 165,
     "metadata": {},
     "output_type": "execute_result"
    }
   ],
   "source": [
    "df['result'].unique()"
   ]
  },
  {
   "cell_type": "code",
   "execution_count": 166,
   "id": "a279e9f8",
   "metadata": {},
   "outputs": [
    {
     "data": {
      "text/plain": [
       "<AxesSubplot:xlabel='result', ylabel='count'>"
      ]
     },
     "execution_count": 166,
     "metadata": {},
     "output_type": "execute_result"
    },
    {
     "data": {
      "image/png": "[encoded data removed]",
      "text/plain": [
       "<Figure size 720x288 with 1 Axes>"
      ]
     },
     "metadata": {},
     "output_type": "display_data"
    }
   ],
   "source": [
    "sns.countplot(df['result'])"
   ]
  },
  {
   "cell_type": "code",
   "execution_count": 170,
   "id": "37171719",
   "metadata": {},
   "outputs": [
    {
     "data": {
      "text/plain": [
       "array([0, 1], dtype=int64)"
      ]
     },
     "execution_count": 170,
     "metadata": {},
     "output_type": "execute_result"
    }
   ],
   "source": [
    "df['dl_applied'].unique()"
   ]
  },
  {
   "cell_type": "code",
   "execution_count": 171,
   "id": "175ea9e4",
   "metadata": {},
   "outputs": [
    {
     "data": {
      "text/plain": [
       "<AxesSubplot:xlabel='dl_applied', ylabel='count'>"
      ]
     },
     "execution_count": 171,
     "metadata": {},
     "output_type": "execute_result"
    },
    {
     "data": {
      "image/png": "[encoded data removed]",
      "text/plain": [
       "<Figure size 720x288 with 1 Axes>"
      ]
     },
     "metadata": {},
     "output_type": "display_data"
    }
   ],
   "source": [
    "sns.countplot(df['dl_applied'])"
   ]
  },
  {
   "cell_type": "code",
   "execution_count": 176,
   "id": "722d91d0",
   "metadata": {},
   "outputs": [
    {
     "data": {
      "text/plain": [
       "['Chennai Super Kings',\n",
       " 'Deccan Chargers',\n",
       " 'Delhi Capitals',\n",
       " 'Delhi Daredevils',\n",
       " 'Gujarat Lions',\n",
       " 'Kings XI Punjab',\n",
       " 'Kochi Tuskers Kerala',\n",
       " 'Kolkata Knight Riders',\n",
       " 'Mumbai Indians',\n",
       " 'Pune Warriors',\n",
       " 'Rajasthan Royals',\n",
       " 'Rising Pune Supergiant',\n",
       " 'Rising Pune Supergiants',\n",
       " 'Royal Challengers Bangalore',\n",
       " 'Sunrisers Hyderabad']"
      ]
     },
     "execution_count": 176,
     "metadata": {},
     "output_type": "execute_result"
    }
   ],
   "source": [
    "sorted(df['winner'].unique())"
   ]
  },
  {
   "cell_type": "code",
   "execution_count": 181,
   "id": "960cf895",
   "metadata": {},
   "outputs": [
    {
     "data": {
      "text/plain": [
       "count    176506.000000\n",
       "mean         13.541562\n",
       "std          23.391111\n",
       "min           0.000000\n",
       "25%           0.000000\n",
       "50%           0.000000\n",
       "75%          19.000000\n",
       "max         146.000000\n",
       "Name: win_by_runs, dtype: float64"
      ]
     },
     "execution_count": 181,
     "metadata": {},
     "output_type": "execute_result"
    }
   ],
   "source": [
    "df['win_by_runs'].describe()"
   ]
  },
  {
   "cell_type": "code",
   "execution_count": 183,
   "id": "453f06d6",
   "metadata": {},
   "outputs": [
    {
     "data": {
      "text/plain": [
       "<AxesSubplot:xlabel='win_by_runs', ylabel='Density'>"
      ]
     },
     "execution_count": 183,
     "metadata": {},
     "output_type": "execute_result"
    },
    {
     "data": {
      "image/png": "[encoded data removed]",
      "text/plain": [
       "<Figure size 720x288 with 1 Axes>"
      ]
     },
     "metadata": {},
     "output_type": "display_data"
    }
   ],
   "source": [
    "sns.kdeplot(df['win_by_runs'] , shade = True)"
   ]
  },
  {
   "cell_type": "code",
   "execution_count": 186,
   "id": "08955786",
   "metadata": {},
   "outputs": [
    {
     "data": {
      "text/plain": [
       "count    176506.000000\n",
       "mean          3.275288\n",
       "std           3.352514\n",
       "min           0.000000\n",
       "25%           0.000000\n",
       "50%           3.000000\n",
       "75%           6.000000\n",
       "max          10.000000\n",
       "Name: win_by_wickets, dtype: float64"
      ]
     },
     "execution_count": 186,
     "metadata": {},
     "output_type": "execute_result"
    }
   ],
   "source": [
    "df['win_by_wickets'].describe()"
   ]
  },
  {
   "cell_type": "code",
   "execution_count": 188,
   "id": "e64ddca1",
   "metadata": {},
   "outputs": [
    {
     "data": {
      "text/plain": [
       "<AxesSubplot:xlabel='win_by_wickets', ylabel='Density'>"
      ]
     },
     "execution_count": 188,
     "metadata": {},
     "output_type": "execute_result"
    },
    {
     "data": {
      "image/png": "[encoded data removed]",
      "text/plain": [
       "<Figure size 720x288 with 1 Axes>"
      ]
     },
     "metadata": {},
     "output_type": "display_data"
    }
   ],
   "source": [
    "sns.kdeplot(df['win_by_wickets'] , shade = True)"
   ]
  },
  {
   "cell_type": "code",
   "execution_count": 191,
   "id": "ef44945f",
   "metadata": {},
   "outputs": [
    {
     "data": {
      "text/plain": [
       "['A Chandila',\n",
       " 'A Joseph',\n",
       " 'A Kumble',\n",
       " 'A Mishra',\n",
       " 'A Nehra',\n",
       " 'A Singh',\n",
       " 'A Symonds',\n",
       " 'A Zampa',\n",
       " 'AA Jhunjhunwala',\n",
       " 'AB Dinda',\n",
       " 'AB de Villiers',\n",
       " 'AC Gilchrist',\n",
       " 'AC Voges',\n",
       " 'AD Mascarenhas',\n",
       " 'AD Mathews',\n",
       " 'AD Russell',\n",
       " 'AJ Finch',\n",
       " 'AJ Tye',\n",
       " 'AM Rahane',\n",
       " 'AP Tare',\n",
       " 'AR Patel',\n",
       " 'AS Rajpoot',\n",
       " 'AS Yadav',\n",
       " 'AT Rayudu',\n",
       " 'Azhar Mahmood',\n",
       " 'B Kumar',\n",
       " 'B Lee',\n",
       " 'B Stanlake',\n",
       " 'BA Bhatt',\n",
       " 'BA Stokes',\n",
       " 'BB McCullum',\n",
       " 'BCJ Cutting',\n",
       " 'BJ Hodge',\n",
       " 'BW Hilfenhaus',\n",
       " 'CA Lynn',\n",
       " 'CH Gayle',\n",
       " 'CH Morris',\n",
       " 'CJ Anderson',\n",
       " 'CL White',\n",
       " 'CR Brathwaite',\n",
       " 'CRD Fernando',\n",
       " 'DA Miller',\n",
       " 'DA Warner',\n",
       " 'DE Bollinger',\n",
       " 'DJ Bravo',\n",
       " 'DJ Hooda',\n",
       " 'DJ Hussey',\n",
       " 'DJG Sammy',\n",
       " 'DL Chahar',\n",
       " 'DL Vettori',\n",
       " 'DP Nannes',\n",
       " 'DPMD Jayawardene',\n",
       " 'DR Smith',\n",
       " 'DW Steyn',\n",
       " 'EJG Morgan',\n",
       " 'F du Plessis',\n",
       " 'G Gambhir',\n",
       " 'GC Smith',\n",
       " 'GD McGrath',\n",
       " 'GH Vihari',\n",
       " 'GJ Bailey',\n",
       " 'GJ Maxwell',\n",
       " 'H Gurney',\n",
       " 'HH Gibbs',\n",
       " 'HH Pandya',\n",
       " 'HM Amla',\n",
       " 'HV Patel',\n",
       " 'Harbhajan Singh',\n",
       " 'Harmeet Singh',\n",
       " 'I Sharma',\n",
       " 'IK Pathan',\n",
       " 'Imran Tahir',\n",
       " 'Iqbal Abdulla',\n",
       " 'Ishan Kishan',\n",
       " 'J Archer',\n",
       " 'J Bairstow',\n",
       " 'J Botha',\n",
       " 'J Theron',\n",
       " 'JA Morkel',\n",
       " 'JC Buttler',\n",
       " 'JD Ryder',\n",
       " 'JD Unadkat',\n",
       " 'JDP Oram',\n",
       " 'JEC Franklin',\n",
       " 'JH Kallis',\n",
       " 'JJ Bumrah',\n",
       " 'JJ Roy',\n",
       " 'JP Duminy',\n",
       " 'JP Faulkner',\n",
       " 'K Ahmed',\n",
       " 'K Paul',\n",
       " 'K Rabada',\n",
       " 'KA Pollard',\n",
       " 'KC Sangakkara',\n",
       " 'KD Karthik',\n",
       " 'KH Pandya',\n",
       " 'KK Cooper',\n",
       " 'KK Nair',\n",
       " 'KL Rahul',\n",
       " 'KM Jadhav',\n",
       " 'KMDN Kulasekara',\n",
       " 'KP Pietersen',\n",
       " 'KS Williamson',\n",
       " 'KV Sharma',\n",
       " 'Kuldeep Yadav',\n",
       " 'L Balaji',\n",
       " 'L Ngidi',\n",
       " 'LH Ferguson',\n",
       " 'LJ Wright',\n",
       " 'LMP Simmons',\n",
       " 'LR Shukla',\n",
       " 'LRPL Taylor',\n",
       " 'M Kartik',\n",
       " 'M Morkel',\n",
       " 'M Muralitharan',\n",
       " 'M Ntini',\n",
       " 'M Ur Rahman',\n",
       " 'M Vijay',\n",
       " 'M Vohra',\n",
       " 'MA Agarwal',\n",
       " 'MA Starc',\n",
       " 'MC Henriques',\n",
       " 'MD Mishra',\n",
       " 'MEK Hussey',\n",
       " 'MF Maharoof',\n",
       " 'MG Johnson',\n",
       " 'MJ Lumb',\n",
       " 'MJ McClenaghan',\n",
       " 'MK Pandey',\n",
       " 'MK Tiwary',\n",
       " 'ML Hayden',\n",
       " 'MM Patel',\n",
       " 'MM Sharma',\n",
       " 'MN Samuels',\n",
       " 'MP Stoinis',\n",
       " 'MR Marsh',\n",
       " 'MS Bisla',\n",
       " 'MS Dhoni',\n",
       " 'MS Gony',\n",
       " 'MV Boucher',\n",
       " 'Mandeep Singh',\n",
       " 'Mohammed Shami',\n",
       " 'Mohammed Siraj',\n",
       " 'Mustafizur Rahman',\n",
       " 'N Rana',\n",
       " 'NM Coulter-Nile',\n",
       " 'NV Ojha',\n",
       " 'P Kumar',\n",
       " 'P Negi',\n",
       " 'P Parameswaran',\n",
       " 'P Shaw',\n",
       " 'PA Patel',\n",
       " 'PC Valthaty',\n",
       " 'PD Collingwood',\n",
       " 'PP Chawla',\n",
       " 'PP Ojha',\n",
       " 'PV Tambe',\n",
       " 'Q de Kock',\n",
       " 'R Ashwin',\n",
       " 'R Bhatia',\n",
       " 'R Dravid',\n",
       " 'R McLaren',\n",
       " 'R Sharma',\n",
       " 'R Vinay Kumar',\n",
       " 'RA Jadeja',\n",
       " 'RA Tripathi',\n",
       " 'RE Levi',\n",
       " 'RG Sharma',\n",
       " 'RJ Harris',\n",
       " 'RP Singh',\n",
       " 'RR Pant',\n",
       " 'RS Bopara',\n",
       " 'RV Uthappa',\n",
       " 'Rashid Khan',\n",
       " 'S Anirudha',\n",
       " 'S Aravind',\n",
       " 'S Badrinath',\n",
       " 'S Curran',\n",
       " 'S Dhawan',\n",
       " 'S Gill',\n",
       " 'S Gopal',\n",
       " 'S Hetmyer',\n",
       " 'S Nadeem',\n",
       " 'S Sohal',\n",
       " 'S Sreesanth',\n",
       " 'SA Asnodkar',\n",
       " 'SA Yadav',\n",
       " 'SB Jakati',\n",
       " 'SB Wagh',\n",
       " 'SC Ganguly',\n",
       " 'SE Marsh',\n",
       " 'SK Raina',\n",
       " 'SK Trivedi',\n",
       " 'SK Warne',\n",
       " 'SL Malinga',\n",
       " 'SM Katich',\n",
       " 'SM Pollock',\n",
       " 'SP Goswami',\n",
       " 'SP Narine',\n",
       " 'SPD Smith',\n",
       " 'SR Tendulkar',\n",
       " 'SR Watson',\n",
       " 'SS Iyer',\n",
       " 'ST Jayasuriya',\n",
       " 'SV Samson',\n",
       " 'SW Billings',\n",
       " 'Sandeep Sharma',\n",
       " 'Shakib Al Hasan',\n",
       " 'Shoaib Akhtar',\n",
       " 'Sohail Tanvir',\n",
       " 'TA Boult',\n",
       " 'TG Southee',\n",
       " 'TL Suman',\n",
       " 'TM Dilshan',\n",
       " 'UT Yadav',\n",
       " 'Umar Gul',\n",
       " 'V Kohli',\n",
       " 'V Sehwag',\n",
       " 'VR Aaron',\n",
       " 'WP Saha',\n",
       " 'WPUJC Vaas',\n",
       " 'Washington Sundar',\n",
       " 'YK Pathan',\n",
       " 'YS Chahal',\n",
       " 'Yuvraj Singh',\n",
       " 'Z Khan']"
      ]
     },
     "execution_count": 191,
     "metadata": {},
     "output_type": "execute_result"
    }
   ],
   "source": [
    "sorted(df['player_of_match'].unique())"
   ]
  },
  {
   "cell_type": "code",
   "execution_count": 194,
   "id": "cf97cdda",
   "metadata": {
    "scrolled": true
   },
   "outputs": [
    {
     "data": {
      "text/plain": [
       "['ACA-VDCA Stadium',\n",
       " 'Barabati Stadium',\n",
       " 'Brabourne Stadium',\n",
       " 'Buffalo Park',\n",
       " 'De Beers Diamond Oval',\n",
       " 'Dr DY Patil Sports Academy',\n",
       " 'Dr. Y.S. Rajasekhara Reddy ACA-VDCA Cricket Stadium',\n",
       " 'Eden Gardens',\n",
       " 'Feroz Shah Kotla',\n",
       " 'Feroz Shah Kotla Ground',\n",
       " 'Green Park',\n",
       " 'Himachal Pradesh Cricket Association Stadium',\n",
       " 'Holkar Cricket Stadium',\n",
       " 'IS Bindra Stadium',\n",
       " 'JSCA International Stadium Complex',\n",
       " 'Kingsmead',\n",
       " 'M Chinnaswamy Stadium',\n",
       " 'M. A. Chidambaram Stadium',\n",
       " 'M. Chinnaswamy Stadium',\n",
       " 'MA Chidambaram Stadium, Chepauk',\n",
       " 'Maharashtra Cricket Association Stadium',\n",
       " 'Nehru Stadium',\n",
       " 'New Wanderers Stadium',\n",
       " 'Newlands',\n",
       " 'OUTsurance Oval',\n",
       " 'Punjab Cricket Association IS Bindra Stadium, Mohali',\n",
       " 'Punjab Cricket Association Stadium, Mohali',\n",
       " 'Rajiv Gandhi International Stadium, Uppal',\n",
       " 'Rajiv Gandhi Intl. Cricket Stadium',\n",
       " 'Sardar Patel Stadium, Motera',\n",
       " 'Saurashtra Cricket Association Stadium',\n",
       " 'Sawai Mansingh Stadium',\n",
       " 'Shaheed Veer Narayan Singh International Stadium',\n",
       " 'Sharjah Cricket Stadium',\n",
       " 'Sheikh Zayed Stadium',\n",
       " \"St George's Park\",\n",
       " 'Subrata Roy Sahara Stadium',\n",
       " 'SuperSport Park',\n",
       " 'Vidarbha Cricket Association Stadium, Jamtha',\n",
       " 'Wankhede Stadium']"
      ]
     },
     "execution_count": 194,
     "metadata": {},
     "output_type": "execute_result"
    }
   ],
   "source": [
    "sorted(df['venue'].unique())"
   ]
  },
  {
   "cell_type": "code",
   "execution_count": 197,
   "id": "4101cfb4",
   "metadata": {},
   "outputs": [
    {
     "data": {
      "text/plain": [
       "['A Deshmukh',\n",
       " 'A Nand Kishore',\n",
       " 'A Nanda Kishore',\n",
       " 'AK Chaudhary',\n",
       " 'AM Saheba',\n",
       " 'AV Jayaprakash',\n",
       " 'AY Dandekar',\n",
       " 'Aleem Dar',\n",
       " 'Anil Chaudhary',\n",
       " 'Anil Dandekar',\n",
       " 'Asad Rauf',\n",
       " 'BF Bowden',\n",
       " 'BG Jerling',\n",
       " 'BNJ Oxenford',\n",
       " 'BR Doctrove',\n",
       " 'Bruce Oxenford',\n",
       " 'C Shamshuddin',\n",
       " 'CB Gaffaney',\n",
       " 'CK Nandan',\n",
       " 'Chris Gaffaney',\n",
       " 'DJ Harper',\n",
       " 'GAV Baxter',\n",
       " 'HDPK Dharmasena',\n",
       " 'IL Howell',\n",
       " 'Ian Gould',\n",
       " 'JD Cloete',\n",
       " 'K Ananthapadmanabhan',\n",
       " 'K Bharatan',\n",
       " 'K Hariharan',\n",
       " 'K Srinath',\n",
       " 'KN Ananthapadmanabhan',\n",
       " 'Kumar Dharmasena',\n",
       " 'M Erasmus',\n",
       " 'MR Benson',\n",
       " 'Marais Erasmus',\n",
       " 'NJ Llong',\n",
       " 'Nanda Kishore',\n",
       " 'Nigel Llong',\n",
       " 'Nitin Menon',\n",
       " 'O Nandan',\n",
       " 'PG Pathak',\n",
       " 'PR Reiffel',\n",
       " 'RE Koertzen',\n",
       " 'RK Illingworth',\n",
       " 'RM Deshpande',\n",
       " 'Rod Tucker',\n",
       " 'S Asnani',\n",
       " 'S Das',\n",
       " 'S Ravi',\n",
       " 'SD Fry',\n",
       " 'SJ Davis',\n",
       " 'SJA Taufel',\n",
       " 'SK Tarapore',\n",
       " 'SL Shastri',\n",
       " 'SS Hazare',\n",
       " 'Sundaram Ravi',\n",
       " 'Ulhas Gandhe',\n",
       " 'VA Kulkarni',\n",
       " 'Vineet Kulkarni',\n",
       " 'YC Barde',\n",
       " 'Yeshwant Barde']"
      ]
     },
     "execution_count": 197,
     "metadata": {},
     "output_type": "execute_result"
    }
   ],
   "source": [
    "sorted(df['umpire1'].unique())"
   ]
  },
  {
   "cell_type": "code",
   "execution_count": 202,
   "id": "98a53c31",
   "metadata": {},
   "outputs": [
    {
     "data": {
      "text/plain": [
       "['A Deshmukh',\n",
       " 'A Nand Kishore',\n",
       " 'A Nanda Kishore',\n",
       " 'A.D Deshmukh',\n",
       " 'AK Chaudhary',\n",
       " 'AL Hill',\n",
       " 'AM Saheba',\n",
       " 'AV Jayaprakash',\n",
       " 'Anil Chaudhary',\n",
       " 'Anil Dandekar',\n",
       " 'BG Jerling',\n",
       " 'BNJ Oxenford',\n",
       " 'BR Doctrove',\n",
       " 'Bruce Oxenford',\n",
       " 'C Shamshuddin',\n",
       " 'CB Gaffaney',\n",
       " 'CK Nandan',\n",
       " 'Chris Gaffaney',\n",
       " 'DJ Harper',\n",
       " 'GA Pratapkumar',\n",
       " 'HDPK Dharmasena',\n",
       " 'I Shivram',\n",
       " 'IL Howell',\n",
       " 'Ian Gould',\n",
       " 'JD Cloete',\n",
       " 'K Ananthapadmanabhan',\n",
       " 'K Hariharan',\n",
       " 'K Srinath',\n",
       " 'K Srinivasan',\n",
       " 'KN Anantapadmanabhan',\n",
       " 'KN Ananthapadmanabhan',\n",
       " 'Kumar Dharmasena',\n",
       " 'M Erasmus',\n",
       " 'MR Benson',\n",
       " 'NJ Llong',\n",
       " 'Nand Kishore',\n",
       " 'Nanda Kishore',\n",
       " 'Nigel Llong',\n",
       " 'Nitin Menon',\n",
       " 'O Nandan',\n",
       " 'PG Pathak',\n",
       " 'PR Reiffel',\n",
       " 'RB Tiffin',\n",
       " 'RE Koertzen',\n",
       " 'RJ Tucker',\n",
       " 'RK Illingworth',\n",
       " 'Rod Tucker',\n",
       " 'S Asnani',\n",
       " 'S Das',\n",
       " 'S Ravi',\n",
       " 'SD Fry',\n",
       " 'SD Ranade',\n",
       " 'SJ Davis',\n",
       " 'SJA Taufel',\n",
       " 'SK Tarapore',\n",
       " 'SL Shastri',\n",
       " 'SS Hazare',\n",
       " 'Subroto Das',\n",
       " 'TH Wijewardene',\n",
       " 'Ulhas Gandhe',\n",
       " 'VA Kulkarni',\n",
       " 'VK Sharma',\n",
       " 'Vineet Kulkarni',\n",
       " 'Virender Kumar Sharma',\n",
       " 'Yeshwant Barde']"
      ]
     },
     "execution_count": 202,
     "metadata": {},
     "output_type": "execute_result"
    }
   ],
   "source": [
    "sorted(df['umpire2'].unique())"
   ]
  },
  {
   "cell_type": "code",
   "execution_count": 204,
   "id": "d9adb77c",
   "metadata": {},
   "outputs": [
    {
     "data": {
      "text/plain": [
       "array([1, 2, 3, 4, 5], dtype=int64)"
      ]
     },
     "execution_count": 204,
     "metadata": {},
     "output_type": "execute_result"
    }
   ],
   "source": [
    "df['inning'].unique()"
   ]
  },
  {
   "cell_type": "code",
   "execution_count": 205,
   "id": "f557e83a",
   "metadata": {},
   "outputs": [
    {
     "data": {
      "text/plain": [
       "<AxesSubplot:xlabel='inning', ylabel='count'>"
      ]
     },
     "execution_count": 205,
     "metadata": {},
     "output_type": "execute_result"
    },
    {
     "data": {
      "image/png": "[encoded data removed]",
      "text/plain": [
       "<Figure size 720x288 with 1 Axes>"
      ]
     },
     "metadata": {},
     "output_type": "display_data"
    }
   ],
   "source": [
    "sns.countplot(df['inning'])"
   ]
  },
  {
   "cell_type": "code",
   "execution_count": 209,
   "id": "d14ff805",
   "metadata": {},
   "outputs": [
    {
     "data": {
      "text/plain": [
       "['Chennai Super Kings',\n",
       " 'Deccan Chargers',\n",
       " 'Delhi Capitals',\n",
       " 'Delhi Daredevils',\n",
       " 'Gujarat Lions',\n",
       " 'Kings XI Punjab',\n",
       " 'Kochi Tuskers Kerala',\n",
       " 'Kolkata Knight Riders',\n",
       " 'Mumbai Indians',\n",
       " 'Pune Warriors',\n",
       " 'Rajasthan Royals',\n",
       " 'Rising Pune Supergiant',\n",
       " 'Rising Pune Supergiants',\n",
       " 'Royal Challengers Bangalore',\n",
       " 'Sunrisers Hyderabad']"
      ]
     },
     "execution_count": 209,
     "metadata": {},
     "output_type": "execute_result"
    }
   ],
   "source": [
    "sorted(df['batting_team'].unique())"
   ]
  },
  {
   "cell_type": "code",
   "execution_count": 210,
   "id": "c989bcf2",
   "metadata": {},
   "outputs": [
    {
     "data": {
      "text/plain": [
       "<AxesSubplot:xlabel='count', ylabel='batting_team'>"
      ]
     },
     "execution_count": 210,
     "metadata": {},
     "output_type": "execute_result"
    },
    {
     "data": {
      "image/png": "[encoded data removed]",
      "text/plain": [
       "<Figure size 720x288 with 1 Axes>"
      ]
     },
     "metadata": {},
     "output_type": "display_data"
    }
   ],
   "source": [
    "sns.countplot(y = df['batting_team'])"
   ]
  },
  {
   "cell_type": "code",
   "execution_count": 214,
   "id": "018f7b3f",
   "metadata": {},
   "outputs": [
    {
     "data": {
      "text/plain": [
       "['Chennai Super Kings',\n",
       " 'Deccan Chargers',\n",
       " 'Delhi Capitals',\n",
       " 'Delhi Daredevils',\n",
       " 'Gujarat Lions',\n",
       " 'Kings XI Punjab',\n",
       " 'Kochi Tuskers Kerala',\n",
       " 'Kolkata Knight Riders',\n",
       " 'Mumbai Indians',\n",
       " 'Pune Warriors',\n",
       " 'Rajasthan Royals',\n",
       " 'Rising Pune Supergiant',\n",
       " 'Rising Pune Supergiants',\n",
       " 'Royal Challengers Bangalore',\n",
       " 'Sunrisers Hyderabad']"
      ]
     },
     "execution_count": 214,
     "metadata": {},
     "output_type": "execute_result"
    }
   ],
   "source": [
    "sorted(df['bowling_team'].unique())"
   ]
  },
  {
   "cell_type": "code",
   "execution_count": 217,
   "id": "863da61d",
   "metadata": {},
   "outputs": [
    {
     "data": {
      "text/plain": [
       "count    176506.000000\n",
       "mean         10.163536\n",
       "std           5.676096\n",
       "min           1.000000\n",
       "25%           5.000000\n",
       "50%          10.000000\n",
       "75%          15.000000\n",
       "max          20.000000\n",
       "Name: over, dtype: float64"
      ]
     },
     "execution_count": 217,
     "metadata": {},
     "output_type": "execute_result"
    }
   ],
   "source": [
    "df['over'].describe()"
   ]
  },
  {
   "cell_type": "code",
   "execution_count": 219,
   "id": "7b611ab1",
   "metadata": {},
   "outputs": [
    {
     "data": {
      "text/plain": [
       "<AxesSubplot:xlabel='over', ylabel='Density'>"
      ]
     },
     "execution_count": 219,
     "metadata": {},
     "output_type": "execute_result"
    },
    {
     "data": {
      "image/png": "[encoded data removed]",
      "text/plain": [
       "<Figure size 720x288 with 1 Axes>"
      ]
     },
     "metadata": {},
     "output_type": "display_data"
    }
   ],
   "source": [
    "sns.kdeplot(df['over'] , shade =  True)"
   ]
  },
  {
   "cell_type": "code",
   "execution_count": 222,
   "id": "8e2b769a",
   "metadata": {},
   "outputs": [
    {
     "data": {
      "text/plain": [
       "array([1, 2, 3, 4, 5, 6, 7, 8, 9], dtype=int64)"
      ]
     },
     "execution_count": 222,
     "metadata": {},
     "output_type": "execute_result"
    }
   ],
   "source": [
    "df['ball'].unique()"
   ]
  },
  {
   "cell_type": "code",
   "execution_count": 223,
   "id": "f9f11846",
   "metadata": {},
   "outputs": [
    {
     "data": {
      "text/plain": [
       "<AxesSubplot:xlabel='ball', ylabel='count'>"
      ]
     },
     "execution_count": 223,
     "metadata": {},
     "output_type": "execute_result"
    },
    {
     "data": {
      "image/png": "[encoded data removed]",
      "text/plain": [
       "<Figure size 720x288 with 1 Axes>"
      ]
     },
     "metadata": {},
     "output_type": "display_data"
    }
   ],
   "source": [
    "sns.countplot(df['ball'])"
   ]
  },
  {
   "cell_type": "code",
   "execution_count": 225,
   "id": "3e2fdf68",
   "metadata": {},
   "outputs": [
    {
     "data": {
      "text/plain": [
       "array(['DA Warner', 'S Dhawan', 'MC Henriques', 'Yuvraj Singh',\n",
       "       'DJ Hooda', 'BCJ Cutting', 'CH Gayle', 'Mandeep Singh', 'TM Head',\n",
       "       'KM Jadhav', 'SR Watson', 'Sachin Baby', 'STR Binny', 'S Aravind',\n",
       "       'YS Chahal', 'TS Mills', 'A Choudhary', 'PA Patel', 'JC Buttler',\n",
       "       'RG Sharma', 'N Rana', 'AT Rayudu', 'KH Pandya', 'KA Pollard',\n",
       "       'HH Pandya', 'TG Southee', 'AM Rahane', 'MA Agarwal', 'SPD Smith',\n",
       "       'BA Stokes', 'MS Dhoni', 'JJ Roy', 'BB McCullum', 'SK Raina',\n",
       "       'AJ Finch', 'KD Karthik', 'G Gambhir', 'CA Lynn', 'MK Tiwary',\n",
       "       'DT Christian', 'HM Amla', 'M Vohra', 'WP Saha', 'AR Patel',\n",
       "       'GJ Maxwell', 'DA Miller', 'DR Smith', 'DS Kulkarni', 'P Kumar',\n",
       "       'Basil Thampi', 'RV Uthappa', 'MK Pandey', 'YK Pathan', 'SA Yadav',\n",
       "       'CR Woakes', 'SP Narine', 'Harbhajan Singh', 'Vishnu Vinod',\n",
       "       'AB de Villiers', 'AP Tare', 'SW Billings', 'SV Samson', 'RR Pant',\n",
       "       'CJ Anderson', 'CH Morris', 'F du Plessis', 'RA Tripathi',\n",
       "       'R Bhatia', 'DL Chahar', 'A Zampa', 'AB Dinda', 'Imran Tahir',\n",
       "       'NV Ojha', 'V Shankar', 'Rashid Khan', 'B Kumar', 'MP Stoinis',\n",
       "       'MM Sharma', 'VR Aaron', 'V Kohli', 'P Negi', 'MJ McClenaghan',\n",
       "       'Ankit Sharma', 'SN Thakur', 'RD Chahar', 'LH Ferguson',\n",
       "       'C de Grandhomme', 'Bipul Sharma', 'KK Nair', 'SS Iyer',\n",
       "       'PJ Cummins', 'EJG Morgan', 'KC Cariappa', 'Sandeep Sharma',\n",
       "       'Ishan Kishan', 'JD Unadkat', 'AF Milne', 'S Badree', 'AD Mathews',\n",
       "       'Mohammed Shami', 'Mohammad Nabi', 'I Sharma', 'RA Jadeja',\n",
       "       'AJ Tye', 'KS Williamson', 'SE Marsh', 'Shakib Al Hasan',\n",
       "       'JP Faulkner', 'MG Johnson', 'K Rabada', 'AD Nath',\n",
       "       'NM Coulter-Nile', 'Kuldeep Yadav', 'UT Yadav',\n",
       "       'Washington Sundar', 'KV Sharma', 'DM Bravo', 'AR Bawne',\n",
       "       'SP Jackson', 'MJ Guptill', 'Anureet Singh', 'IK Pathan',\n",
       "       'Ankit Soni', 'JJ Bumrah', 'SL Malinga', 'A Mishra', 'S Nadeem',\n",
       "       'PJ Sangwan', 'S Kaul', 'LMP Simmons', 'MN Samuels', 'Z Khan',\n",
       "       'Swapnil Singh', 'R Tewatia', 'CR Brathwaite', 'MM Patel',\n",
       "       'SS Tiwary', 'TA Boult', 'CJ Jordan', 'IR Jaggi', 'PP Chawla',\n",
       "       'AS Rajpoot', 'SC Ganguly', 'RT Ponting', 'DJ Hussey',\n",
       "       'Mohammad Hafeez', 'R Dravid', 'W Jaffer', 'JH Kallis', 'CL White',\n",
       "       'MV Boucher', 'B Akhil', 'AA Noffke', 'SB Joshi', 'ML Hayden',\n",
       "       'MEK Hussey', 'JDP Oram', 'S Badrinath', 'K Goel', 'JR Hopes',\n",
       "       'KC Sangakkara', 'SM Katich', 'T Kohli', 'M Kaif', 'DS Lehmann',\n",
       "       'M Rawat', 'D Salunkhe', 'SK Warne', 'SK Trivedi', 'V Sehwag',\n",
       "       'L Ronchi', 'ST Jayasuriya', 'DJ Thornely', 'PR Shah', 'AM Nayar',\n",
       "       'SM Pollock', 'S Chanderpaul', 'LRPL Taylor', 'AC Gilchrist',\n",
       "       'Y Venugopal Rao', 'VVS Laxman', 'A Symonds', 'SB Styris',\n",
       "       'AS Yadav', 'SB Bangar', 'WPUJC Vaas', 'RP Singh', 'LR Shukla',\n",
       "       'DPMD Jayawardene', 'S Sohal', 'B Lee', 'WA Mota', 'Kamran Akmal',\n",
       "       'Shahid Afridi', 'DJ Bravo', 'MA Khote', 'A Nehra', 'GC Smith',\n",
       "       'Pankaj Singh', 'RR Sarwan', 'S Sreesanth', 'VRV Singh',\n",
       "       'R Vinay Kumar', 'AB Agarkar', 'M Kartik', 'Shoaib Malik',\n",
       "       'MF Maharoof', 'VY Mahesh', 'TM Srivastava', 'B Chipli',\n",
       "       'DW Steyn', 'DB Das', 'HH Gibbs', 'DNT Zoysa', 'D Kalyankrishna',\n",
       "       'SA Asnodkar', 'Sohail Tanvir', 'Salman Butt', 'BJ Hodge',\n",
       "       'Umar Gul', 'SP Fleming', 'S Vidyut', 'JA Morkel', 'LPC Silva',\n",
       "       'DB Ravi Teja', 'Misbah-ul-Haq', 'YV Takawale', 'RR Raje',\n",
       "       'Mohammad Asif', 'GD McGrath', 'Joginder Sharma', 'MS Gony',\n",
       "       'M Muralitharan', 'M Ntini', 'DT Patil', 'A Kumble', 'S Anirudha',\n",
       "       'CK Kapugedera', 'A Chopra', 'T Taibu', 'J Arunkumar', 'PP Ojha',\n",
       "       'SP Goswami', 'SR Tendulkar', 'U Kaul', 'TM Dilshan',\n",
       "       'AD Mascarenhas', 'Niraj Patel', 'LA Pomersbach', 'Iqbal Abdulla',\n",
       "       'Younis Khan', 'PM Sarvesh Kumar', 'DP Vijaykumar',\n",
       "       'Shoaib Akhtar', 'Abdur Razzak', 'H Das', 'SD Chitnis',\n",
       "       'CRD Fernando', 'VS Yeligati', 'L Balaji', 'A Mukund', 'RR Powar',\n",
       "       'JP Duminy', 'A Flintoff', 'T Thushara', 'JD Ryder',\n",
       "       'KP Pietersen', 'T Henderson', 'Kamran Khan', 'RS Bopara',\n",
       "       'R Bishnoi', 'FH Edwards', 'PC Valthaty', 'RJ Quiney', 'AS Raut',\n",
       "       'Yashpal Singh', 'M Manhas', 'AA Bilakhia', 'AN Ghosh',\n",
       "       'BAW Mendis', 'DL Vettori', 'MN van Wyk', 'RE van der Merwe',\n",
       "       'TL Suman', 'Shoaib Ahmed', 'GR Napier', 'KP Appanna',\n",
       "       'LA Carseldine', 'SM Harwood', 'M Vijay', 'SB Jakati', 'RJ Harris',\n",
       "       'D du Preez', 'M Morkel', 'J Botha', 'C Nanda', 'Mashrafe Mortaza',\n",
       "       'A Singh', 'GJ Bailey', 'AB McDonald', 'Y Nagar', 'SS Shaikh',\n",
       "       'R Ashwin', 'Mohammad Ashraful', 'CA Pujara', 'OA Shah',\n",
       "       'Anirudh Singh', 'Jaskaran Singh', 'R Sathish', 'R McLaren',\n",
       "       'AA Jhunjhunwala', 'P Dogra', 'A Uniyal', 'MS Bisla', 'YA Abdulla',\n",
       "       'JM Kemp', 'S Tyagi', 'RS Gavaskar', 'SE Bond', 'S Ladda',\n",
       "       'DP Nannes', 'MJ Lumb', 'DR Martyn', 'S Narwal', 'AB Barath',\n",
       "       'FY Fazal', 'AC Voges', 'MD Mishra', 'J Theron', 'SJ Srivastava',\n",
       "       'R Sharma', 'SW Tait', 'KB Arun Karthik', 'KAJ Roach',\n",
       "       'PD Collingwood', 'CK Langeveldt', 'VS Malik', 'A Mithun',\n",
       "       'AP Dole', 'AN Ahmed', 'RS Sodhi', 'DE Bollinger', 'S Sriram',\n",
       "       'B Sumanth', 'C Madan', 'AG Paunikar', 'MR Marsh', 'Harmeet Singh',\n",
       "       'RV Gomez', 'AUK Pathan', 'UBT Chand', 'DJ Jacobs', 'Sunny Singh',\n",
       "       'NJ Rimmington', 'AL Menaria', 'WD Parnell', 'JJ van der Wath',\n",
       "       'R Ninan', 'MS Wade', 'TD Paine', 'SB Wagh', 'AC Thomas',\n",
       "       'JEC Franklin', 'DH Yagnik', 'S Randiv', 'BJ Haddin',\n",
       "       'NLTC Perera', 'NL McCullum', 'JE Taylor', 'J Syed Mohammad',\n",
       "       'RN ten Doeschate', 'TR Birt', 'AG Murtaza', 'Harpreet Singh',\n",
       "       'M Klinger', 'AC Blizzard', 'I Malhotra', 'L Ablish', 'CA Ingram',\n",
       "       'P Parameswaran', 'CJ Ferguson', 'AA Chavan', 'ND Doshi',\n",
       "       'Y Gnaneswara Rao', 'S Rana', 'BA Bhatt', 'RE Levi', 'KK Cooper',\n",
       "       'HV Patel', 'DAJ Bracewell', 'DJ Harris', 'GB Hogg', 'RR Bhatkal',\n",
       "       'CJ McKay', 'N Saini', 'Azhar Mahmood', 'RJ Peterson',\n",
       "       'KMDN Kulasekara', 'A Ashish Reddy', 'V Pratap Singh',\n",
       "       'BB Samantray', 'MJ Clarke', 'Gurkeerat Singh', 'AP Majumdar',\n",
       "       'PA Reddy', 'K Upadhyay', 'P Awana', 'AD Russell', 'A Chandila',\n",
       "       'Sunny Gupta', 'MC Juneja', 'GH Vihari', 'MDKJ Perera', 'R Shukla',\n",
       "       'B Laughlin', 'BMAJ Mendis', 'R Rampaul', 'SMSM Senanayake',\n",
       "       'BJ Rohrer', 'KL Rahul', 'Q de Kock', 'R Dhawan', 'LJ Wright',\n",
       "       'IC Pandey', 'CM Gautam', 'X Thalaivan Sargunam', 'DJG Sammy',\n",
       "       'KW Richardson', 'UA Birla', 'Parvez Rasool', 'PV Tambe',\n",
       "       'NJ Maddinson', 'JDS Neesham', 'MA Starc', 'BR Dunk', 'RR Rossouw',\n",
       "       'Shivam Sharma', 'VH Zol', 'BE Hendricks', 'S Gopal', 'M de Lange',\n",
       "       'JO Holder', 'Karanveer Singh', 'SA Abbott', 'J Suchith',\n",
       "       'RG More', 'D Wiese', 'SN Khan', 'DJ Muthuswami', 'C Munro',\n",
       "       'P Sahu', 'KJ Abbott', 'M Ashwin', 'NS Naik', 'PSP Handscomb',\n",
       "       'J Yadav', 'UT Khawaja', 'F Behardien', 'BB Sran', 'S Kaushik',\n",
       "       'ER Dwivedi', 'E Lewis', 'M Wood', 'R Singh', 'D Short',\n",
       "       'K Gowtham', 'T Curran', 'M Markande', 'B Stanlake', 'M Ur Rahman',\n",
       "       'A Dananjaya', 'S Gill', 'S Mavi', 'Mohammed Siraj', 'H Klaasen',\n",
       "       'R Bhui', 'J Archer', 'P Shaw', 'L Plunkett', 'Mustafizur Rahman',\n",
       "       'A Hales', 'M Lomror', 'D Shorey', 'M Ali', 'P Krishna',\n",
       "       'P Chopra', 'J Searles', 'I Sodhi', 'S Hetmyer', 'S Dube',\n",
       "       'J Bairstow', 'C Ingram', 'K Paul', 'R Salam', 'N Pooran',\n",
       "       'N Naik', 'H Vihari', 'P R Barman', 'S Curran', 'H Viljoen',\n",
       "       'Avesh Khan', 'S Lamichhane', 'S Sharma', 'H Gurney', 'SD Lad',\n",
       "       'A Joseph', 'R Parag', 'M Santner', 'J Denly', 'L Livingstone',\n",
       "       'K Ahmed', 'A Turner', 'H Brar', 'S Rutherford', 'P Raj',\n",
       "       'S Singh'], dtype=object)"
      ]
     },
     "execution_count": 225,
     "metadata": {},
     "output_type": "execute_result"
    }
   ],
   "source": [
    "df['batsman'].unique()"
   ]
  },
  {
   "cell_type": "code",
   "execution_count": 228,
   "id": "8353fe21",
   "metadata": {},
   "outputs": [
    {
     "data": {
      "text/plain": [
       "array(['S Dhawan', 'DA Warner', 'MC Henriques', 'Yuvraj Singh',\n",
       "       'DJ Hooda', 'BCJ Cutting', 'Mandeep Singh', 'CH Gayle', 'TM Head',\n",
       "       'KM Jadhav', 'SR Watson', 'Sachin Baby', 'STR Binny', 'S Aravind',\n",
       "       'TS Mills', 'YS Chahal', 'A Choudhary', 'JC Buttler', 'PA Patel',\n",
       "       'RG Sharma', 'N Rana', 'AT Rayudu', 'KH Pandya', 'KA Pollard',\n",
       "       'HH Pandya', 'TG Southee', 'MJ McClenaghan', 'MA Agarwal',\n",
       "       'AM Rahane', 'SPD Smith', 'BA Stokes', 'MS Dhoni', 'BB McCullum',\n",
       "       'JJ Roy', 'SK Raina', 'AJ Finch', 'KD Karthik', 'DR Smith',\n",
       "       'CA Lynn', 'G Gambhir', 'MK Tiwary', 'DT Christian', 'R Bhatia',\n",
       "       'M Vohra', 'HM Amla', 'WP Saha', 'AR Patel', 'GJ Maxwell',\n",
       "       'DA Miller', 'DS Kulkarni', 'P Kumar', 'Basil Thampi', 'MK Pandey',\n",
       "       'YK Pathan', 'SA Yadav', 'CR Woakes', 'SP Narine',\n",
       "       'Harbhajan Singh', 'Vishnu Vinod', 'AB de Villiers', 'SW Billings',\n",
       "       'AP Tare', 'SV Samson', 'RR Pant', 'CJ Anderson', 'CH Morris',\n",
       "       'F du Plessis', 'RA Tripathi', 'DL Chahar', 'A Zampa', 'AB Dinda',\n",
       "       'Imran Tahir', 'NV Ojha', 'V Shankar', 'Rashid Khan', 'B Kumar',\n",
       "       'A Nehra', 'MP Stoinis', 'MM Sharma', 'VR Aaron', 'Sandeep Sharma',\n",
       "       'RV Uthappa', 'V Kohli', 'P Negi', 'Ankit Sharma', 'SN Thakur',\n",
       "       'LH Ferguson', 'RD Chahar', 'C de Grandhomme', 'Bipul Sharma',\n",
       "       'KK Nair', 'SS Iyer', 'PJ Cummins', 'EJG Morgan', 'Ishan Kishan',\n",
       "       'JD Unadkat', 'AF Milne', 'S Badree', 'AD Mathews',\n",
       "       'Mohammad Nabi', 'KC Cariappa', 'I Sharma', 'RA Jadeja', 'AJ Tye',\n",
       "       'KS Williamson', 'SE Marsh', 'JP Faulkner', 'K Rabada',\n",
       "       'NM Coulter-Nile', 'UT Yadav', 'Kuldeep Yadav', 'KV Sharma',\n",
       "       'MG Johnson', 'DM Bravo', 'AR Bawne', 'SP Jackson', 'MJ Guptill',\n",
       "       'Anureet Singh', 'IK Pathan', 'Ankit Soni', 'JJ Bumrah',\n",
       "       'SL Malinga', 'A Mishra', 'Mohammed Shami', 'PJ Sangwan',\n",
       "       'Washington Sundar', 'S Kaul', 'LMP Simmons', 'MN Samuels',\n",
       "       'Z Khan', 'Swapnil Singh', 'R Tewatia', 'CR Brathwaite',\n",
       "       'S Nadeem', 'SS Tiwary', 'TA Boult', 'CJ Jordan', 'IR Jaggi',\n",
       "       'PP Chawla', 'AS Rajpoot', 'SC Ganguly', 'RT Ponting', 'DJ Hussey',\n",
       "       'Mohammad Hafeez', 'W Jaffer', 'R Dravid', 'JH Kallis', 'CL White',\n",
       "       'MV Boucher', 'B Akhil', 'AA Noffke', 'SB Joshi', 'ML Hayden',\n",
       "       'MEK Hussey', 'JDP Oram', 'S Badrinath', 'JR Hopes', 'K Goel',\n",
       "       'KC Sangakkara', 'SM Katich', 'T Kohli', 'M Kaif', 'DS Lehmann',\n",
       "       'M Rawat', 'D Salunkhe', 'SK Warne', 'SK Trivedi', 'V Sehwag',\n",
       "       'ST Jayasuriya', 'L Ronchi', 'DJ Thornely', 'PR Shah', 'AM Nayar',\n",
       "       'SM Pollock', 'S Chanderpaul', 'LRPL Taylor', 'Y Venugopal Rao',\n",
       "       'AC Gilchrist', 'VVS Laxman', 'A Symonds', 'SB Styris', 'AS Yadav',\n",
       "       'SB Bangar', 'WPUJC Vaas', 'RP Singh', 'PP Ojha', 'LR Shukla',\n",
       "       'DPMD Jayawardene', 'S Sohal', 'WA Mota', 'Kamran Akmal',\n",
       "       'Shahid Afridi', 'DJ Bravo', 'MA Khote', 'GC Smith',\n",
       "       'Pankaj Singh', 'RR Sarwan', 'B Lee', 'S Sreesanth', 'VRV Singh',\n",
       "       'R Vinay Kumar', 'AB Agarkar', 'M Kartik', 'Shoaib Malik',\n",
       "       'MF Maharoof', 'VY Mahesh', 'TM Srivastava', 'B Chipli',\n",
       "       'DW Steyn', 'DB Das', 'HH Gibbs', 'DNT Zoysa', 'D Kalyankrishna',\n",
       "       'SA Asnodkar', 'Sohail Tanvir', 'Salman Butt', 'BJ Hodge',\n",
       "       'Umar Gul', 'SP Fleming', 'S Vidyut', 'JA Morkel',\n",
       "       'Joginder Sharma', 'LPC Silva', 'DB Ravi Teja', 'DP Vijaykumar',\n",
       "       'Misbah-ul-Haq', 'YV Takawale', 'RR Raje', 'Mohammad Asif',\n",
       "       'GD McGrath', 'MS Gony', 'M Ntini', 'DT Patil', 'A Kumble',\n",
       "       'S Anirudha', 'MM Patel', 'CK Kapugedera', 'A Chopra', 'T Taibu',\n",
       "       'J Arunkumar', 'SP Goswami', 'SR Tendulkar', 'TM Dilshan',\n",
       "       'AD Mascarenhas', 'Niraj Patel', 'LA Pomersbach', 'Iqbal Abdulla',\n",
       "       'Younis Khan', 'PM Sarvesh Kumar', 'Shoaib Akhtar', 'Abdur Razzak',\n",
       "       'H Das', 'SD Chitnis', 'CRD Fernando', 'A Nel', 'RR Powar',\n",
       "       'JP Duminy', 'A Flintoff', 'KP Pietersen', 'T Henderson',\n",
       "       'Kamran Khan', 'RS Bopara', 'R Bishnoi', 'FH Edwards',\n",
       "       'DL Vettori', 'L Balaji', 'M Muralitharan', 'PC Valthaty',\n",
       "       'AS Raut', 'Yashpal Singh', 'JD Ryder', 'M Manhas', 'RJ Quiney',\n",
       "       'AA Bilakhia', 'AN Ghosh', 'BAW Mendis', 'MN van Wyk',\n",
       "       'RE van der Merwe', 'TL Suman', 'GR Napier', 'KP Appanna',\n",
       "       'LA Carseldine', 'SM Harwood', 'M Vijay', 'SB Jakati', 'S Tyagi',\n",
       "       'RJ Harris', 'Shoaib Ahmed', 'D du Preez', 'M Morkel', 'J Botha',\n",
       "       'Mashrafe Mortaza', 'Jaskaran Singh', 'GJ Bailey', 'AB McDonald',\n",
       "       'Y Nagar', 'A Singh', 'SS Shaikh', 'R Ashwin', 'T Thushara',\n",
       "       'Mohammad Ashraful', 'CA Pujara', 'OA Shah', 'Anirudh Singh',\n",
       "       'R Sathish', 'R McLaren', 'AA Jhunjhunwala', 'P Dogra', 'MS Bisla',\n",
       "       'YA Abdulla', 'JM Kemp', 'A Uniyal', 'RS Gavaskar', 'SE Bond',\n",
       "       'S Ladda', 'DP Nannes', 'MJ Lumb', 'DR Martyn', 'AB Barath',\n",
       "       'FY Fazal', 'AC Voges', 'MD Mishra', 'J Theron', 'SJ Srivastava',\n",
       "       'S Narwal', 'SW Tait', 'KB Arun Karthik', 'KAJ Roach',\n",
       "       'PD Collingwood', 'VS Malik', 'C Ganapathy', 'R Sharma',\n",
       "       'A Mithun', 'AP Dole', 'Harmeet Singh', 'AN Ahmed', 'RS Sodhi',\n",
       "       'S Sriram', 'B Sumanth', 'C Madan', 'AG Paunikar', 'DE Bollinger',\n",
       "       'MR Marsh', 'RV Gomez', 'AUK Pathan', 'DJ Jacobs', 'Sunny Singh',\n",
       "       'NJ Rimmington', 'UBT Chand', 'AL Menaria', 'WD Parnell',\n",
       "       'R Ninan', 'JJ van der Wath', 'MS Wade', 'TD Paine', 'SB Wagh',\n",
       "       'AC Thomas', 'JEC Franklin', 'Shakib Al Hasan', 'DH Yagnik',\n",
       "       'S Randiv', 'BJ Haddin', 'NLTC Perera', 'NL McCullum', 'JE Taylor',\n",
       "       'J Syed Mohammad', 'RN ten Doeschate', 'TR Birt', 'AG Murtaza',\n",
       "       'Harpreet Singh', 'M Klinger', 'AC Blizzard', 'I Malhotra',\n",
       "       'L Ablish', 'P Parameswaran', 'CJ Ferguson', 'CA Ingram',\n",
       "       'AA Chavan', 'ND Doshi', 'CK Langeveldt', 'Y Gnaneswara Rao',\n",
       "       'S Rana', 'BA Bhatt', 'RE Levi', 'DAJ Bracewell', 'DJ Harris',\n",
       "       'TP Sudhindra', 'KK Cooper', 'HV Patel', 'GB Hogg', 'RR Bhatkal',\n",
       "       'CJ McKay', 'N Saini', 'Azhar Mahmood', 'RJ Peterson', 'P Awana',\n",
       "       'KMDN Kulasekara', 'A Ashish Reddy', 'BB Samantray', 'MJ Clarke',\n",
       "       'Gurkeerat Singh', 'AP Majumdar', 'PA Reddy', 'K Upadhyay',\n",
       "       'AD Russell', 'Sunny Gupta', 'MC Juneja', 'GH Vihari',\n",
       "       'MDKJ Perera', 'B Laughlin', 'BMAJ Mendis', 'R Rampaul',\n",
       "       'SMSM Senanayake', 'BJ Rohrer', 'KL Rahul', 'Q de Kock',\n",
       "       'R Dhawan', 'A Chandila', 'LJ Wright', 'CM Gautam',\n",
       "       'X Thalaivan Sargunam', 'DJG Sammy', 'A Mukund', 'KW Richardson',\n",
       "       'UA Birla', 'Parvez Rasool', 'PV Tambe', 'NJ Maddinson',\n",
       "       'BW Hilfenhaus', 'JDS Neesham', 'MA Starc', 'BR Dunk',\n",
       "       'RR Rossouw', 'R Shukla', 'VH Zol', 'BE Hendricks', 'S Gopal',\n",
       "       'M de Lange', 'JO Holder', 'Karanveer Singh', 'DJ Muthuswami',\n",
       "       'SA Abbott', 'J Suchith', 'RG More', 'D Wiese', 'SN Khan',\n",
       "       'C Munro', 'P Sahu', 'AD Nath', 'KJ Abbott', 'NS Naik',\n",
       "       'S Kaushik', 'PSP Handscomb', 'J Yadav', 'UT Khawaja',\n",
       "       'F Behardien', 'BB Sran', 'ER Dwivedi', 'E Lewis', 'M Wood',\n",
       "       'R Singh', 'D Short', 'K Gowtham', 'T Curran', 'M Markande',\n",
       "       'B Stanlake', 'M Ur Rahman', 'A Dananjaya', 'S Gill', 'S Mavi',\n",
       "       'Mohammed Siraj', 'H Klaasen', 'J Archer', 'P Shaw', 'L Plunkett',\n",
       "       'Mustafizur Rahman', 'A Hales', 'M Lomror', 'D Shorey', 'M Ali',\n",
       "       'P Krishna', 'P Chopra', 'J Searles', 'I Sodhi', 'S Hetmyer',\n",
       "       'S Dube', 'J Bairstow', 'C Ingram', 'K Paul', 'R Salam',\n",
       "       'N Pooran', 'N Naik', 'H Vihari', 'P R Barman', 'S Curran',\n",
       "       'H Viljoen', 'Avesh Khan', 'A Joseph', 'S Sharma', 'H Gurney',\n",
       "       'SD Lad', 'R Parag', 'L Livingstone', 'R Bhui', 'A Turner',\n",
       "       'H Brar', 'S Rutherford', 'P Raj', 'M Ashwin', 'M Santner',\n",
       "       'S Singh'], dtype=object)"
      ]
     },
     "execution_count": 228,
     "metadata": {},
     "output_type": "execute_result"
    }
   ],
   "source": [
    "df['non_striker'].unique()"
   ]
  },
  {
   "cell_type": "code",
   "execution_count": 230,
   "id": "17883329",
   "metadata": {},
   "outputs": [
    {
     "data": {
      "text/plain": [
       "array(['TS Mills', 'A Choudhary', 'YS Chahal', 'S Aravind', 'SR Watson',\n",
       "       'TM Head', 'STR Binny', 'A Nehra', 'B Kumar', 'BCJ Cutting',\n",
       "       'Rashid Khan', 'DJ Hooda', 'MC Henriques', 'Bipul Sharma',\n",
       "       'AB Dinda', 'DL Chahar', 'BA Stokes', 'Imran Tahir', 'A Zampa',\n",
       "       'R Bhatia', 'TG Southee', 'HH Pandya', 'MJ McClenaghan',\n",
       "       'JJ Bumrah', 'KH Pandya', 'KA Pollard', 'TA Boult', 'PP Chawla',\n",
       "       'SP Narine', 'CR Woakes', 'Kuldeep Yadav', 'YK Pathan', 'P Kumar',\n",
       "       'DS Kulkarni', 'MS Gony', 'S Kaushik', 'DR Smith', 'SB Jakati',\n",
       "       'Sandeep Sharma', 'MM Sharma', 'AR Patel', 'T Natarajan',\n",
       "       'MP Stoinis', 'Swapnil Singh', 'DT Christian', 'RD Chahar',\n",
       "       'SK Raina', 'Tejas Baroka', 'Basil Thampi', 'SL Malinga',\n",
       "       'Harbhajan Singh', 'AS Rajpoot', 'VR Aaron', 'B Stanlake',\n",
       "       'Iqbal Abdulla', 'P Negi', 'S Nadeem', 'PJ Cummins', 'Z Khan',\n",
       "       'CH Morris', 'CJ Anderson', 'A Mishra', 'Mustafizur Rahman',\n",
       "       'UT Yadav', 'C de Grandhomme', 'I Sharma', 'GJ Maxwell',\n",
       "       'S Badree', 'AJ Tye', 'RA Jadeja', 'Ankit Sharma', 'LH Ferguson',\n",
       "       'SN Thakur', 'KC Cariappa', 'MM Patel', 'AF Milne', 'JD Unadkat',\n",
       "       'NM Coulter-Nile', 'Mohammed Shami', 'AD Mathews', 'BB Sran',\n",
       "       'S Kaul', 'Mohammad Nabi', 'J Yadav', 'Mohammed Siraj',\n",
       "       'Yuvraj Singh', 'JP Faulkner', 'Shakib Al Hasan', 'K Rabada',\n",
       "       'MG Johnson', 'Washington Sundar', 'SS Agarwal', 'NB Singh',\n",
       "       'KV Sharma', 'RA Tripathi', 'Ankit Soni', 'Anureet Singh',\n",
       "       'IK Pathan', 'PJ Sangwan', 'MN Samuels', 'MJ Henry', 'R Tewatia',\n",
       "       'CR Brathwaite', 'R Vinay Kumar', 'Avesh Khan', 'HV Patel',\n",
       "       'CJ Jordan', 'AA Noffke', 'JH Kallis', 'SB Joshi', 'CL White',\n",
       "       'AB Agarkar', 'SC Ganguly', 'LR Shukla', 'B Lee', 'S Sreesanth',\n",
       "       'JR Hopes', 'K Goel', 'WA Mota', 'JDP Oram', 'M Muralitharan',\n",
       "       'P Amarnath', 'Joginder Sharma', 'GD McGrath', 'B Geeves',\n",
       "       'MF Maharoof', 'DL Vettori', 'SK Trivedi', 'SK Warne',\n",
       "       'D Salunkhe', 'B Akhil', 'SM Pollock', 'ST Jayasuriya', 'AM Nayar',\n",
       "       'M Kartik', 'Mohammad Hafeez', 'DJ Hussey', 'WPUJC Vaas',\n",
       "       'RP Singh', 'SB Styris', 'SB Bangar', 'A Symonds', 'PP Ojha',\n",
       "       'Pankaj Singh', 'Mohammad Asif', 'VY Mahesh', 'Shahid Afridi',\n",
       "       'DJ Bravo', 'VS Yeligati', 'MA Khote', 'D Kalyankrishna',\n",
       "       'VRV Singh', 'Sohail Tanvir', 'A Kumble', 'DNT Zoysa',\n",
       "       'SD Chitnis', 'Shoaib Malik', 'DW Steyn', 'JA Morkel',\n",
       "       'CRD Fernando', 'V Kohli', 'V Sehwag', 'Gagandeep Singh',\n",
       "       'Y Venugopal Rao', 'Umar Gul', 'M Ntini', 'DP Vijaykumar',\n",
       "       'DB Ravi Teja', 'LPC Silva', 'DJ Thornely', 'RR Raje', 'S Vidyut',\n",
       "       'L Balaji', 'CK Kapugedera', 'AD Mascarenhas', 'Shoaib Akhtar',\n",
       "       'RR Powar', 'PM Sarvesh Kumar', 'Abdur Razzak', 'TM Dilshan',\n",
       "       'RG Sharma', 'A Nel', 'BAW Mendis', 'T Thushara', 'A Flintoff',\n",
       "       'Kamran Khan', 'T Henderson', 'JD Ryder', 'DP Nannes', 'AM Salvi',\n",
       "       'YA Abdulla', 'VS Malik', 'FH Edwards', 'Harmeet Singh',\n",
       "       'CH Gayle', 'KP Pietersen', 'LRPL Taylor', 'RS Bopara',\n",
       "       'MK Tiwary', 'RR Bose', 'KP Appanna', 'Shoaib Ahmed', 'BJ Hodge',\n",
       "       'SR Tendulkar', 'RE van der Merwe', 'JP Duminy', 'S Tyagi',\n",
       "       'GR Napier', 'SM Harwood', 'AS Raut', 'D du Preez', 'RJ Harris',\n",
       "       'TL Suman', 'A Singh', 'M Morkel', 'LA Carseldine', 'A Mithun',\n",
       "       'C Nanda', 'SS Sarkar', 'AM Rahane', 'J Botha', 'Mashrafe Mortaza',\n",
       "       'AB McDonald', 'Y Nagar', 'CK Langeveldt', 'R Ashwin', 'RA Shaikh',\n",
       "       'Jaskaran Singh', 'SW Tait', 'A Uniyal', 'AA Jhunjhunwala',\n",
       "       'R McLaren', 'AG Murtaza', 'R Sathish', 'RS Gavaskar', 'JM Kemp',\n",
       "       'S Ladda', 'SE Bond', 'S Narwal', 'SJ Srivastava', 'AC Voges',\n",
       "       'R Sharma', 'J Theron', 'NLTC Perera', 'KAJ Roach',\n",
       "       'PD Collingwood', 'C Ganapathy', 'MB Parmar', 'SB Wagh',\n",
       "       'DE Bollinger', 'AP Dole', 'AN Ahmed', 'FY Fazal', 'MR Marsh',\n",
       "       'L Ablish', 'S Sriram', 'AJ Finch', 'ND Doshi', 'S Randiv',\n",
       "       'AL Menaria', 'AUK Pathan', 'RV Gomez', 'JEC Franklin',\n",
       "       'AC Thomas', 'WD Parnell', 'M Manhas', 'NJ Rimmington',\n",
       "       'RN ten Doeschate', 'BA Bhatt', 'JJ van der Wath', 'R Ninan',\n",
       "       'PC Valthaty', 'S Dhawan', 'J Syed Mohammad', 'NL McCullum',\n",
       "       'JE Taylor', 'KMDN Kulasekara', 'P Parameswaran', 'I Malhotra',\n",
       "       'B Chipli', 'AA Kazi', 'Anand Rajan', 'P Prasanth',\n",
       "       'Y Gnaneswara Rao', 'AA Chavan', 'S Rana', 'RW Price',\n",
       "       'M de Lange', 'KK Cooper', 'DAJ Bracewell', 'DJ Harris',\n",
       "       'TP Sudhindra', 'F du Plessis', 'GB Hogg', 'RR Bhatkal', 'P Awana',\n",
       "       'V Pratap Singh', 'CJ McKay', 'AD Russell', 'A Ashish Reddy',\n",
       "       'Azhar Mahmood', 'A Chandila', 'LJ Wright', 'RJ Peterson',\n",
       "       'R Shukla', 'MJ Clarke', 'BW Hilfenhaus', 'SPD Smith',\n",
       "       'K Upadhyay', 'Sunny Gupta', 'B Laughlin', 'GH Vihari',\n",
       "       'BMAJ Mendis', 'Harmeet Singh (2)', 'R Dhawan', 'R Rampaul',\n",
       "       'SMSM Senanayake', 'JO Holder', 'IC Pandey', 'DJG Sammy',\n",
       "       'KW Richardson', 'P Suyal', 'PV Tambe', 'BJ Rohrer',\n",
       "       'Parvez Rasool', 'MG Neser', 'AC Gilchrist', 'MA Starc',\n",
       "       'JDS Neesham', 'M Vijay', 'SA Yadav', 'Shivam Sharma', 'V Shankar',\n",
       "       'LMP Simmons', 'K Santokie', 'S Gopal', 'BE Hendricks',\n",
       "       'JW Hastings', 'Karanveer Singh', 'DJ Muthuswami', 'SA Abbott',\n",
       "       'J Suchith', 'RG More', 'D Wiese', 'GS Sandhu', 'Gurkeerat Singh',\n",
       "       'M Ashwin', 'C Munro', 'P Sahu', 'KJ Abbott', 'T Shamsi',\n",
       "       'SM Boland', 'Sachin Baby', 'N Rana', 'KS Williamson', 'M Wood',\n",
       "       'M Markande', 'M Ur Rahman', 'K Khejroliya', 'K Gowtham',\n",
       "       'D Short', 'T Curran', 'A Dananjaya', 'S Mavi', 'J Archer',\n",
       "       'L Plunkett', 'I Sodhi', 'M Lomror', 'L Ngidi', 'KM Asif',\n",
       "       'D Willey', 'P Krishna', 'M Ali', 'J Searles', 'S Lamichhane',\n",
       "       'J Dala', 'K Ahmed', 'N Saini', 'S Dube', 'L Ferguson', 'S Sharma',\n",
       "       'R Salam', 'K Paul', 'S Curran', 'V Chakravarthy', 'H Viljoen',\n",
       "       'Mandeep Singh', 'P R Barman', 'M Santner', 'H Vihari',\n",
       "       'J Behrendorff', 'S Kuggeleijn', 'A Joseph', 'H Gurney',\n",
       "       'S Midhun', 'R Parag', 'L Livingstone', 'SN Khan', 'S Rutherford',\n",
       "       'H Brar', 'P Raj', 'O Thomas', 'A Roy', 'S Warrier'], dtype=object)"
      ]
     },
     "execution_count": 230,
     "metadata": {},
     "output_type": "execute_result"
    }
   ],
   "source": [
    "df['bowler'].unique()"
   ]
  },
  {
   "cell_type": "code",
   "execution_count": 232,
   "id": "50793f3d",
   "metadata": {},
   "outputs": [
    {
     "data": {
      "text/plain": [
       "array([0, 1], dtype=int64)"
      ]
     },
     "execution_count": 232,
     "metadata": {},
     "output_type": "execute_result"
    }
   ],
   "source": [
    "df['is_super_over'].unique()"
   ]
  },
  {
   "cell_type": "code",
   "execution_count": 233,
   "id": "a76fe8bc",
   "metadata": {},
   "outputs": [
    {
     "data": {
      "text/plain": [
       "<AxesSubplot:xlabel='is_super_over', ylabel='count'>"
      ]
     },
     "execution_count": 233,
     "metadata": {},
     "output_type": "execute_result"
    },
    {
     "data": {
      "image/png": "[encoded data removed]",
      "text/plain": [
       "<Figure size 720x288 with 1 Axes>"
      ]
     },
     "metadata": {},
     "output_type": "display_data"
    }
   ],
   "source": [
    "sns.countplot(df['is_super_over'])"
   ]
  },
  {
   "cell_type": "code",
   "execution_count": 235,
   "id": "ba0d91a0",
   "metadata": {},
   "outputs": [
    {
     "data": {
      "text/plain": [
       "array([0, 2, 1, 5, 3, 4], dtype=int64)"
      ]
     },
     "execution_count": 235,
     "metadata": {},
     "output_type": "execute_result"
    }
   ],
   "source": [
    "df['wide_runs'].unique()"
   ]
  },
  {
   "cell_type": "code",
   "execution_count": 236,
   "id": "c9d005a5",
   "metadata": {},
   "outputs": [
    {
     "data": {
      "text/plain": [
       "<AxesSubplot:xlabel='wide_runs', ylabel='count'>"
      ]
     },
     "execution_count": 236,
     "metadata": {},
     "output_type": "execute_result"
    },
    {
     "data": {
      "image/png": "[encoded data removed]",
      "text/plain": [
       "<Figure size 720x288 with 1 Axes>"
      ]
     },
     "metadata": {},
     "output_type": "display_data"
    }
   ],
   "source": [
    "sns.countplot(df['wide_runs'])"
   ]
  },
  {
   "cell_type": "code",
   "execution_count": 238,
   "id": "c78e5c42",
   "metadata": {},
   "outputs": [
    {
     "data": {
      "text/plain": [
       "array([0, 1, 4, 2, 3], dtype=int64)"
      ]
     },
     "execution_count": 238,
     "metadata": {},
     "output_type": "execute_result"
    }
   ],
   "source": [
    "df['bye_runs'].unique()"
   ]
  },
  {
   "cell_type": "code",
   "execution_count": 239,
   "id": "64765a44",
   "metadata": {},
   "outputs": [
    {
     "data": {
      "text/plain": [
       "<AxesSubplot:xlabel='bye_runs', ylabel='count'>"
      ]
     },
     "execution_count": 239,
     "metadata": {},
     "output_type": "execute_result"
    },
    {
     "data": {
      "image/png": "[encoded data removed]",
      "text/plain": [
       "<Figure size 720x288 with 1 Axes>"
      ]
     },
     "metadata": {},
     "output_type": "display_data"
    }
   ],
   "source": [
    "sns.countplot(df['bye_runs'])"
   ]
  },
  {
   "cell_type": "code",
   "execution_count": 241,
   "id": "7fbed8b0",
   "metadata": {},
   "outputs": [
    {
     "data": {
      "text/plain": [
       "array([0, 1, 2, 5, 3, 4], dtype=int64)"
      ]
     },
     "execution_count": 241,
     "metadata": {},
     "output_type": "execute_result"
    }
   ],
   "source": [
    "df['legbye_runs'].unique()"
   ]
  },
  {
   "cell_type": "code",
   "execution_count": 243,
   "id": "41dbf1a4",
   "metadata": {},
   "outputs": [
    {
     "data": {
      "text/plain": [
       "array([0, 1, 2, 5, 3], dtype=int64)"
      ]
     },
     "execution_count": 243,
     "metadata": {},
     "output_type": "execute_result"
    }
   ],
   "source": [
    "df['noball_runs'].unique()"
   ]
  },
  {
   "cell_type": "code",
   "execution_count": 246,
   "id": "f11a0205",
   "metadata": {},
   "outputs": [
    {
     "data": {
      "text/plain": [
       "array([0, 5], dtype=int64)"
      ]
     },
     "execution_count": 246,
     "metadata": {},
     "output_type": "execute_result"
    }
   ],
   "source": [
    "df['penalty_runs'].unique()"
   ]
  },
  {
   "cell_type": "code",
   "execution_count": 249,
   "id": "9f7ab902",
   "metadata": {},
   "outputs": [
    {
     "data": {
      "text/plain": [
       "array([0, 4, 1, 6, 3, 2, 5, 7], dtype=int64)"
      ]
     },
     "execution_count": 249,
     "metadata": {},
     "output_type": "execute_result"
    }
   ],
   "source": [
    "df['batsman_runs'].unique()"
   ]
  },
  {
   "cell_type": "code",
   "execution_count": 252,
   "id": "4a6b51b8",
   "metadata": {},
   "outputs": [
    {
     "data": {
      "text/plain": [
       "array([0, 2, 1, 4, 5, 3, 7], dtype=int64)"
      ]
     },
     "execution_count": 252,
     "metadata": {},
     "output_type": "execute_result"
    }
   ],
   "source": [
    "df['extra_runs'].unique()"
   ]
  },
  {
   "cell_type": "code",
   "execution_count": 254,
   "id": "390956fb",
   "metadata": {},
   "outputs": [
    {
     "data": {
      "text/plain": [
       "array([ 0,  4,  2,  1,  6,  3,  5,  7, 10,  8], dtype=int64)"
      ]
     },
     "execution_count": 254,
     "metadata": {},
     "output_type": "execute_result"
    }
   ],
   "source": [
    "df['total_runs'].unique()"
   ]
  },
  {
   "cell_type": "code",
   "execution_count": 256,
   "id": "abc7ccc9",
   "metadata": {},
   "outputs": [],
   "source": [
    "df['month'] = df['date'].dt.month"
   ]
  },
  {
   "cell_type": "markdown",
   "id": "bdcef633",
   "metadata": {},
   "source": [
    "### Bivariate Analysis "
   ]
  },
  {
   "cell_type": "code",
   "execution_count": 261,
   "id": "7194c2f9",
   "metadata": {},
   "outputs": [
    {
     "data": {
      "text/plain": [
       "Index(['id', 'season', 'city', 'date', 'team1', 'team2', 'toss_winner',\n",
       "       'toss_decision', 'result', 'dl_applied', 'winner', 'win_by_runs',\n",
       "       'win_by_wickets', 'player_of_match', 'venue', 'umpire1', 'umpire2',\n",
       "       'inning', 'batting_team', 'bowling_team', 'over', 'ball', 'batsman',\n",
       "       'non_striker', 'bowler', 'is_super_over', 'wide_runs', 'bye_runs',\n",
       "       'legbye_runs', 'noball_runs', 'penalty_runs', 'batsman_runs',\n",
       "       'extra_runs', 'total_runs', 'month'],\n",
       "      dtype='object')"
      ]
     },
     "execution_count": 261,
     "metadata": {},
     "output_type": "execute_result"
    }
   ],
   "source": [
    "df.columns"
   ]
  },
  {
   "cell_type": "markdown",
   "id": "829121c0",
   "metadata": {},
   "source": [
    "### 1- Top 4 Cities That Chennai Super Kings Team Play Mathes ?"
   ]
  },
  {
   "cell_type": "code",
   "execution_count": 270,
   "id": "1a4b8e4a",
   "metadata": {},
   "outputs": [
    {
     "data": {
      "text/plain": [
       "Chennai    8330\n",
       "Mumbai     1459\n",
       "Pune       1230\n",
       "Kolkata    1140\n",
       "Name: city, dtype: int64"
      ]
     },
     "execution_count": 270,
     "metadata": {},
     "output_type": "execute_result"
    }
   ],
   "source": [
    "top4 = df[df['team1'] == 'Chennai Super Kings']['city'].value_counts().head(4)\n",
    "top4"
   ]
  },
  {
   "cell_type": "code",
   "execution_count": 272,
   "id": "2ed4f15c",
   "metadata": {},
   "outputs": [
    {
     "data": {
      "text/plain": [
       "<AxesSubplot:xlabel='city', ylabel='count'>"
      ]
     },
     "execution_count": 272,
     "metadata": {},
     "output_type": "execute_result"
    },
    {
     "data": {
      "image/png": "[encoded data removed]",
      "text/plain": [
       "<Figure size 720x288 with 1 Axes>"
      ]
     },
     "metadata": {},
     "output_type": "display_data"
    }
   ],
   "source": [
    "sns.countplot(data = df[(df['team1'] == 'Chennai Super Kings') & df['city'].isin(top4.index)] , x = 'city')"
   ]
  },
  {
   "cell_type": "markdown",
   "id": "875d73c4",
   "metadata": {},
   "source": [
    "### 2- In Which Month Mumbai Indians Team Play Most ?"
   ]
  },
  {
   "cell_type": "code",
   "execution_count": 274,
   "id": "7c7ea582",
   "metadata": {},
   "outputs": [
    {
     "data": {
      "text/plain": [
       "4     10401\n",
       "5     10182\n",
       "3      1706\n",
       "12      493\n",
       "6       479\n",
       "2       249\n",
       "7       246\n",
       "9       234\n",
       "Name: month, dtype: int64"
      ]
     },
     "execution_count": 274,
     "metadata": {},
     "output_type": "execute_result"
    }
   ],
   "source": [
    "df[df['team1'] == 'Mumbai Indians']['month'].value_counts()"
   ]
  },
  {
   "cell_type": "code",
   "execution_count": 275,
   "id": "97db382e",
   "metadata": {},
   "outputs": [
    {
     "data": {
      "text/plain": [
       "<AxesSubplot:xlabel='month', ylabel='count'>"
      ]
     },
     "execution_count": 275,
     "metadata": {},
     "output_type": "execute_result"
    },
    {
     "data": {
      "image/png": "[encoded data removed]",
      "text/plain": [
       "<Figure size 720x288 with 1 Axes>"
      ]
     },
     "metadata": {},
     "output_type": "display_data"
    }
   ],
   "source": [
    "sns.countplot(data = df[df['team1'] == 'Mumbai Indians'] , x = 'month')"
   ]
  },
  {
   "cell_type": "markdown",
   "id": "a6848a81",
   "metadata": {},
   "source": [
    "### 3- What Is Most Teams Beat Mumbai Indian Team ?"
   ]
  },
  {
   "cell_type": "code",
   "execution_count": 284,
   "id": "eba9b0e5",
   "metadata": {},
   "outputs": [
    {
     "data": {
      "text/plain": [
       "Rajasthan Royals               1899\n",
       "Delhi Daredevils               1662\n",
       "Chennai Super Kings            1207\n",
       "Kings XI Punjab                 958\n",
       "Royal Challengers Bangalore     956\n",
       "Sunrisers Hyderabad             953\n",
       "Kolkata Knight Riders           709\n",
       "Gujarat Lions                   487\n",
       "Rising Pune Supergiant          247\n",
       "Kochi Tuskers Kerala            247\n",
       "Rising Pune Supergiants         218\n",
       "Deccan Chargers                 202\n",
       "Name: winner, dtype: int64"
      ]
     },
     "execution_count": 284,
     "metadata": {},
     "output_type": "execute_result"
    }
   ],
   "source": [
    "cnt = df[df['team1'] == 'Mumbai Indians']['winner'].value_counts()[1:]\n",
    "cnt"
   ]
  },
  {
   "cell_type": "code",
   "execution_count": 286,
   "id": "6592df31",
   "metadata": {},
   "outputs": [
    {
     "data": {
      "text/plain": [
       "<AxesSubplot:xlabel='count', ylabel='winner'>"
      ]
     },
     "execution_count": 286,
     "metadata": {},
     "output_type": "execute_result"
    },
    {
     "data": {
      "image/png": "[encoded data removed]",
      "text/plain": [
       "<Figure size 720x288 with 1 Axes>"
      ]
     },
     "metadata": {},
     "output_type": "display_data"
    }
   ],
   "source": [
    "sns.countplot(data = df[df['team1'] == 'Mumbai Indians'] , y = 'winner' , order = cnt.index)"
   ]
  },
  {
   "cell_type": "markdown",
   "id": "d251a100",
   "metadata": {},
   "source": [
    "### 4- In Which Season Mumbai Indians Win Most ?"
   ]
  },
  {
   "cell_type": "code",
   "execution_count": 291,
   "id": "9d5bb0fd",
   "metadata": {},
   "outputs": [
    {
     "data": {
      "text/plain": [
       "2013    3173\n",
       "2017    2888\n",
       "2010    2704\n",
       "2019    2671\n",
       "2015    2457\n",
       "2012    2443\n",
       "2011    2416\n",
       "2014    1685\n",
       "2016    1684\n",
       "2008    1509\n",
       "2018    1470\n",
       "2009    1205\n",
       "Name: season, dtype: int64"
      ]
     },
     "execution_count": 291,
     "metadata": {},
     "output_type": "execute_result"
    }
   ],
   "source": [
    "cnt = df[df['winner'] == 'Mumbai Indians']['season'].value_counts()\n",
    "cnt "
   ]
  },
  {
   "cell_type": "code",
   "execution_count": 292,
   "id": "1acb82fc",
   "metadata": {
    "scrolled": false
   },
   "outputs": [
    {
     "data": {
      "text/plain": [
       "<AxesSubplot:>"
      ]
     },
     "execution_count": 292,
     "metadata": {},
     "output_type": "execute_result"
    },
    {
     "data": {
      "image/png": "[encoded data removed]",
      "text/plain": [
       "<Figure size 720x288 with 1 Axes>"
      ]
     },
     "metadata": {},
     "output_type": "display_data"
    }
   ],
   "source": [
    "sns.lineplot(x = cnt.index, y = cnt.values)"
   ]
  },
  {
   "cell_type": "markdown",
   "id": "e6945673",
   "metadata": {},
   "source": [
    "### 5- How Many Times When The Team Is The Winner & Toss Winner ? "
   ]
  },
  {
   "cell_type": "code",
   "execution_count": 299,
   "id": "7653ac47",
   "metadata": {},
   "outputs": [],
   "source": [
    "df['dummy'] = 1"
   ]
  },
  {
   "cell_type": "code",
   "execution_count": 401,
   "id": "cade2d82",
   "metadata": {
    "scrolled": false
   },
   "outputs": [
    {
     "data": {
      "text/html": [
       "<div>\n",
       "<style scoped>\n",
       "    .dataframe tbody tr th:only-of-type {\n",
       "        vertical-align: middle;\n",
       "    }\n",
       "\n",
       "    .dataframe tbody tr th {\n",
       "        vertical-align: top;\n",
       "    }\n",
       "\n",
       "    .dataframe thead th {\n",
       "        text-align: right;\n",
       "    }\n",
       "</style>\n",
       "<table border=\"1\" class=\"dataframe\">\n",
       "  <thead>\n",
       "    <tr style=\"text-align: right;\">\n",
       "      <th>toss_winner</th>\n",
       "      <th>Chennai Super Kings</th>\n",
       "      <th>Deccan Chargers</th>\n",
       "      <th>Delhi Capitals</th>\n",
       "      <th>Delhi Daredevils</th>\n",
       "      <th>Gujarat Lions</th>\n",
       "      <th>Kings XI Punjab</th>\n",
       "      <th>Kochi Tuskers Kerala</th>\n",
       "      <th>Kolkata Knight Riders</th>\n",
       "      <th>Mumbai Indians</th>\n",
       "      <th>Pune Warriors</th>\n",
       "      <th>Rajasthan Royals</th>\n",
       "      <th>Rising Pune Supergiant</th>\n",
       "      <th>Rising Pune Supergiants</th>\n",
       "      <th>Royal Challengers Bangalore</th>\n",
       "      <th>Sunrisers Hyderabad</th>\n",
       "    </tr>\n",
       "    <tr>\n",
       "      <th>winner</th>\n",
       "      <th></th>\n",
       "      <th></th>\n",
       "      <th></th>\n",
       "      <th></th>\n",
       "      <th></th>\n",
       "      <th></th>\n",
       "      <th></th>\n",
       "      <th></th>\n",
       "      <th></th>\n",
       "      <th></th>\n",
       "      <th></th>\n",
       "      <th></th>\n",
       "      <th></th>\n",
       "      <th></th>\n",
       "      <th></th>\n",
       "    </tr>\n",
       "  </thead>\n",
       "  <tbody>\n",
       "    <tr>\n",
       "      <th>Chennai Super Kings</th>\n",
       "      <td>13735.0</td>\n",
       "      <td>483.0</td>\n",
       "      <td>469.0</td>\n",
       "      <td>1221.0</td>\n",
       "      <td>NaN</td>\n",
       "      <td>697.0</td>\n",
       "      <td>NaN</td>\n",
       "      <td>1356.0</td>\n",
       "      <td>981.0</td>\n",
       "      <td>738.0</td>\n",
       "      <td>2199.0</td>\n",
       "      <td>NaN</td>\n",
       "      <td>NaN</td>\n",
       "      <td>739.0</td>\n",
       "      <td>984.0</td>\n",
       "    </tr>\n",
       "    <tr>\n",
       "      <th>Deccan Chargers</th>\n",
       "      <td>244.0</td>\n",
       "      <td>4624.0</td>\n",
       "      <td>NaN</td>\n",
       "      <td>NaN</td>\n",
       "      <td>NaN</td>\n",
       "      <td>482.0</td>\n",
       "      <td>228.0</td>\n",
       "      <td>199.0</td>\n",
       "      <td>NaN</td>\n",
       "      <td>NaN</td>\n",
       "      <td>243.0</td>\n",
       "      <td>NaN</td>\n",
       "      <td>NaN</td>\n",
       "      <td>993.0</td>\n",
       "      <td>NaN</td>\n",
       "    </tr>\n",
       "    <tr>\n",
       "      <th>Delhi Capitals</th>\n",
       "      <td>NaN</td>\n",
       "      <td>NaN</td>\n",
       "      <td>1473.0</td>\n",
       "      <td>NaN</td>\n",
       "      <td>NaN</td>\n",
       "      <td>NaN</td>\n",
       "      <td>NaN</td>\n",
       "      <td>NaN</td>\n",
       "      <td>246.0</td>\n",
       "      <td>NaN</td>\n",
       "      <td>224.0</td>\n",
       "      <td>NaN</td>\n",
       "      <td>NaN</td>\n",
       "      <td>NaN</td>\n",
       "      <td>241.0</td>\n",
       "    </tr>\n",
       "    <tr>\n",
       "      <th>Delhi Daredevils</th>\n",
       "      <td>952.0</td>\n",
       "      <td>1171.0</td>\n",
       "      <td>NaN</td>\n",
       "      <td>8117.0</td>\n",
       "      <td>NaN</td>\n",
       "      <td>738.0</td>\n",
       "      <td>NaN</td>\n",
       "      <td>959.0</td>\n",
       "      <td>1468.0</td>\n",
       "      <td>469.0</td>\n",
       "      <td>619.0</td>\n",
       "      <td>226.0</td>\n",
       "      <td>NaN</td>\n",
       "      <td>741.0</td>\n",
       "      <td>NaN</td>\n",
       "    </tr>\n",
       "    <tr>\n",
       "      <th>Gujarat Lions</th>\n",
       "      <td>NaN</td>\n",
       "      <td>NaN</td>\n",
       "      <td>NaN</td>\n",
       "      <td>242.0</td>\n",
       "      <td>2342.0</td>\n",
       "      <td>NaN</td>\n",
       "      <td>NaN</td>\n",
       "      <td>NaN</td>\n",
       "      <td>NaN</td>\n",
       "      <td>NaN</td>\n",
       "      <td>NaN</td>\n",
       "      <td>NaN</td>\n",
       "      <td>233.0</td>\n",
       "      <td>246.0</td>\n",
       "      <td>NaN</td>\n",
       "    </tr>\n",
       "    <tr>\n",
       "      <th>Kings XI Punjab</th>\n",
       "      <td>1260.0</td>\n",
       "      <td>741.0</td>\n",
       "      <td>245.0</td>\n",
       "      <td>1601.0</td>\n",
       "      <td>490.0</td>\n",
       "      <td>8049.0</td>\n",
       "      <td>NaN</td>\n",
       "      <td>1464.0</td>\n",
       "      <td>2162.0</td>\n",
       "      <td>198.0</td>\n",
       "      <td>1241.0</td>\n",
       "      <td>NaN</td>\n",
       "      <td>237.0</td>\n",
       "      <td>1296.0</td>\n",
       "      <td>245.0</td>\n",
       "    </tr>\n",
       "    <tr>\n",
       "      <th>Kochi Tuskers Kerala</th>\n",
       "      <td>NaN</td>\n",
       "      <td>NaN</td>\n",
       "      <td>NaN</td>\n",
       "      <td>NaN</td>\n",
       "      <td>NaN</td>\n",
       "      <td>NaN</td>\n",
       "      <td>830.0</td>\n",
       "      <td>492.0</td>\n",
       "      <td>NaN</td>\n",
       "      <td>NaN</td>\n",
       "      <td>NaN</td>\n",
       "      <td>NaN</td>\n",
       "      <td>NaN</td>\n",
       "      <td>NaN</td>\n",
       "      <td>NaN</td>\n",
       "    </tr>\n",
       "    <tr>\n",
       "      <th>Kolkata Knight Riders</th>\n",
       "      <td>934.0</td>\n",
       "      <td>743.0</td>\n",
       "      <td>NaN</td>\n",
       "      <td>1183.0</td>\n",
       "      <td>NaN</td>\n",
       "      <td>1941.0</td>\n",
       "      <td>NaN</td>\n",
       "      <td>12398.0</td>\n",
       "      <td>725.0</td>\n",
       "      <td>NaN</td>\n",
       "      <td>952.0</td>\n",
       "      <td>NaN</td>\n",
       "      <td>142.0</td>\n",
       "      <td>1151.0</td>\n",
       "      <td>1475.0</td>\n",
       "    </tr>\n",
       "    <tr>\n",
       "      <th>Mumbai Indians</th>\n",
       "      <td>1710.0</td>\n",
       "      <td>979.0</td>\n",
       "      <td>NaN</td>\n",
       "      <td>2123.0</td>\n",
       "      <td>263.0</td>\n",
       "      <td>1466.0</td>\n",
       "      <td>NaN</td>\n",
       "      <td>1711.0</td>\n",
       "      <td>13409.0</td>\n",
       "      <td>715.0</td>\n",
       "      <td>1491.0</td>\n",
       "      <td>NaN</td>\n",
       "      <td>NaN</td>\n",
       "      <td>1506.0</td>\n",
       "      <td>932.0</td>\n",
       "    </tr>\n",
       "    <tr>\n",
       "      <th>Pune Warriors</th>\n",
       "      <td>243.0</td>\n",
       "      <td>234.0</td>\n",
       "      <td>NaN</td>\n",
       "      <td>252.0</td>\n",
       "      <td>NaN</td>\n",
       "      <td>436.0</td>\n",
       "      <td>246.0</td>\n",
       "      <td>244.0</td>\n",
       "      <td>247.0</td>\n",
       "      <td>742.0</td>\n",
       "      <td>239.0</td>\n",
       "      <td>NaN</td>\n",
       "      <td>NaN</td>\n",
       "      <td>NaN</td>\n",
       "      <td>NaN</td>\n",
       "    </tr>\n",
       "    <tr>\n",
       "      <th>Rajasthan Royals</th>\n",
       "      <td>695.0</td>\n",
       "      <td>719.0</td>\n",
       "      <td>NaN</td>\n",
       "      <td>1590.0</td>\n",
       "      <td>NaN</td>\n",
       "      <td>1466.0</td>\n",
       "      <td>NaN</td>\n",
       "      <td>1006.0</td>\n",
       "      <td>691.0</td>\n",
       "      <td>470.0</td>\n",
       "      <td>10086.0</td>\n",
       "      <td>NaN</td>\n",
       "      <td>NaN</td>\n",
       "      <td>746.0</td>\n",
       "      <td>479.0</td>\n",
       "    </tr>\n",
       "    <tr>\n",
       "      <th>Rising Pune Supergiant</th>\n",
       "      <td>NaN</td>\n",
       "      <td>NaN</td>\n",
       "      <td>NaN</td>\n",
       "      <td>NaN</td>\n",
       "      <td>NaN</td>\n",
       "      <td>NaN</td>\n",
       "      <td>NaN</td>\n",
       "      <td>NaN</td>\n",
       "      <td>497.0</td>\n",
       "      <td>NaN</td>\n",
       "      <td>NaN</td>\n",
       "      <td>1145.0</td>\n",
       "      <td>NaN</td>\n",
       "      <td>495.0</td>\n",
       "      <td>246.0</td>\n",
       "    </tr>\n",
       "    <tr>\n",
       "      <th>Rising Pune Supergiants</th>\n",
       "      <td>NaN</td>\n",
       "      <td>NaN</td>\n",
       "      <td>NaN</td>\n",
       "      <td>NaN</td>\n",
       "      <td>NaN</td>\n",
       "      <td>250.0</td>\n",
       "      <td>NaN</td>\n",
       "      <td>NaN</td>\n",
       "      <td>218.0</td>\n",
       "      <td>NaN</td>\n",
       "      <td>NaN</td>\n",
       "      <td>NaN</td>\n",
       "      <td>637.0</td>\n",
       "      <td>NaN</td>\n",
       "      <td>NaN</td>\n",
       "    </tr>\n",
       "    <tr>\n",
       "      <th>Royal Challengers Bangalore</th>\n",
       "      <td>1080.0</td>\n",
       "      <td>682.0</td>\n",
       "      <td>NaN</td>\n",
       "      <td>1229.0</td>\n",
       "      <td>491.0</td>\n",
       "      <td>1630.0</td>\n",
       "      <td>456.0</td>\n",
       "      <td>501.0</td>\n",
       "      <td>1474.0</td>\n",
       "      <td>990.0</td>\n",
       "      <td>466.0</td>\n",
       "      <td>NaN</td>\n",
       "      <td>254.0</td>\n",
       "      <td>8986.0</td>\n",
       "      <td>836.0</td>\n",
       "    </tr>\n",
       "    <tr>\n",
       "      <th>Sunrisers Hyderabad</th>\n",
       "      <td>475.0</td>\n",
       "      <td>NaN</td>\n",
       "      <td>NaN</td>\n",
       "      <td>927.0</td>\n",
       "      <td>NaN</td>\n",
       "      <td>1955.0</td>\n",
       "      <td>NaN</td>\n",
       "      <td>1172.0</td>\n",
       "      <td>930.0</td>\n",
       "      <td>476.0</td>\n",
       "      <td>737.0</td>\n",
       "      <td>NaN</td>\n",
       "      <td>NaN</td>\n",
       "      <td>1492.0</td>\n",
       "      <td>5126.0</td>\n",
       "    </tr>\n",
       "  </tbody>\n",
       "</table>\n",
       "</div>"
      ],
      "text/plain": [
       "toss_winner                  Chennai Super Kings  Deccan Chargers  \\\n",
       "winner                                                              \n",
       "Chennai Super Kings                      13735.0            483.0   \n",
       "Deccan Chargers                            244.0           4624.0   \n",
       "Delhi Capitals                               NaN              NaN   \n",
       "Delhi Daredevils                           952.0           1171.0   \n",
       "Gujarat Lions                                NaN              NaN   \n",
       "Kings XI Punjab                           1260.0            741.0   \n",
       "Kochi Tuskers Kerala                         NaN              NaN   \n",
       "Kolkata Knight Riders                      934.0            743.0   \n",
       "Mumbai Indians                            1710.0            979.0   \n",
       "Pune Warriors                              243.0            234.0   \n",
       "Rajasthan Royals                           695.0            719.0   \n",
       "Rising Pune Supergiant                       NaN              NaN   \n",
       "Rising Pune Supergiants                      NaN              NaN   \n",
       "Royal Challengers Bangalore               1080.0            682.0   \n",
       "Sunrisers Hyderabad                        475.0              NaN   \n",
       "\n",
       "toss_winner                  Delhi Capitals  Delhi Daredevils  Gujarat Lions  \\\n",
       "winner                                                                         \n",
       "Chennai Super Kings                   469.0            1221.0            NaN   \n",
       "Deccan Chargers                         NaN               NaN            NaN   \n",
       "Delhi Capitals                       1473.0               NaN            NaN   \n",
       "Delhi Daredevils                        NaN            8117.0            NaN   \n",
       "Gujarat Lions                           NaN             242.0         2342.0   \n",
       "Kings XI Punjab                       245.0            1601.0          490.0   \n",
       "Kochi Tuskers Kerala                    NaN               NaN            NaN   \n",
       "Kolkata Knight Riders                   NaN            1183.0            NaN   \n",
       "Mumbai Indians                          NaN            2123.0          263.0   \n",
       "Pune Warriors                           NaN             252.0            NaN   \n",
       "Rajasthan Royals                        NaN            1590.0            NaN   \n",
       "Rising Pune Supergiant                  NaN               NaN            NaN   \n",
       "Rising Pune Supergiants                 NaN               NaN            NaN   \n",
       "Royal Challengers Bangalore             NaN            1229.0          491.0   \n",
       "Sunrisers Hyderabad                     NaN             927.0            NaN   \n",
       "\n",
       "toss_winner                  Kings XI Punjab  Kochi Tuskers Kerala  \\\n",
       "winner                                                               \n",
       "Chennai Super Kings                    697.0                   NaN   \n",
       "Deccan Chargers                        482.0                 228.0   \n",
       "Delhi Capitals                           NaN                   NaN   \n",
       "Delhi Daredevils                       738.0                   NaN   \n",
       "Gujarat Lions                            NaN                   NaN   \n",
       "Kings XI Punjab                       8049.0                   NaN   \n",
       "Kochi Tuskers Kerala                     NaN                 830.0   \n",
       "Kolkata Knight Riders                 1941.0                   NaN   \n",
       "Mumbai Indians                        1466.0                   NaN   \n",
       "Pune Warriors                          436.0                 246.0   \n",
       "Rajasthan Royals                      1466.0                   NaN   \n",
       "Rising Pune Supergiant                   NaN                   NaN   \n",
       "Rising Pune Supergiants                250.0                   NaN   \n",
       "Royal Challengers Bangalore           1630.0                 456.0   \n",
       "Sunrisers Hyderabad                   1955.0                   NaN   \n",
       "\n",
       "toss_winner                  Kolkata Knight Riders  Mumbai Indians  \\\n",
       "winner                                                               \n",
       "Chennai Super Kings                         1356.0           981.0   \n",
       "Deccan Chargers                              199.0             NaN   \n",
       "Delhi Capitals                                 NaN           246.0   \n",
       "Delhi Daredevils                             959.0          1468.0   \n",
       "Gujarat Lions                                  NaN             NaN   \n",
       "Kings XI Punjab                             1464.0          2162.0   \n",
       "Kochi Tuskers Kerala                         492.0             NaN   \n",
       "Kolkata Knight Riders                      12398.0           725.0   \n",
       "Mumbai Indians                              1711.0         13409.0   \n",
       "Pune Warriors                                244.0           247.0   \n",
       "Rajasthan Royals                            1006.0           691.0   \n",
       "Rising Pune Supergiant                         NaN           497.0   \n",
       "Rising Pune Supergiants                        NaN           218.0   \n",
       "Royal Challengers Bangalore                  501.0          1474.0   \n",
       "Sunrisers Hyderabad                         1172.0           930.0   \n",
       "\n",
       "toss_winner                  Pune Warriors  Rajasthan Royals  \\\n",
       "winner                                                         \n",
       "Chennai Super Kings                  738.0            2199.0   \n",
       "Deccan Chargers                        NaN             243.0   \n",
       "Delhi Capitals                         NaN             224.0   \n",
       "Delhi Daredevils                     469.0             619.0   \n",
       "Gujarat Lions                          NaN               NaN   \n",
       "Kings XI Punjab                      198.0            1241.0   \n",
       "Kochi Tuskers Kerala                   NaN               NaN   \n",
       "Kolkata Knight Riders                  NaN             952.0   \n",
       "Mumbai Indians                       715.0            1491.0   \n",
       "Pune Warriors                        742.0             239.0   \n",
       "Rajasthan Royals                     470.0           10086.0   \n",
       "Rising Pune Supergiant                 NaN               NaN   \n",
       "Rising Pune Supergiants                NaN               NaN   \n",
       "Royal Challengers Bangalore          990.0             466.0   \n",
       "Sunrisers Hyderabad                  476.0             737.0   \n",
       "\n",
       "toss_winner                  Rising Pune Supergiant  Rising Pune Supergiants  \\\n",
       "winner                                                                         \n",
       "Chennai Super Kings                             NaN                      NaN   \n",
       "Deccan Chargers                                 NaN                      NaN   \n",
       "Delhi Capitals                                  NaN                      NaN   \n",
       "Delhi Daredevils                              226.0                      NaN   \n",
       "Gujarat Lions                                   NaN                    233.0   \n",
       "Kings XI Punjab                                 NaN                    237.0   \n",
       "Kochi Tuskers Kerala                            NaN                      NaN   \n",
       "Kolkata Knight Riders                           NaN                    142.0   \n",
       "Mumbai Indians                                  NaN                      NaN   \n",
       "Pune Warriors                                   NaN                      NaN   \n",
       "Rajasthan Royals                                NaN                      NaN   \n",
       "Rising Pune Supergiant                       1145.0                      NaN   \n",
       "Rising Pune Supergiants                         NaN                    637.0   \n",
       "Royal Challengers Bangalore                     NaN                    254.0   \n",
       "Sunrisers Hyderabad                             NaN                      NaN   \n",
       "\n",
       "toss_winner                  Royal Challengers Bangalore  Sunrisers Hyderabad  \n",
       "winner                                                                         \n",
       "Chennai Super Kings                                739.0                984.0  \n",
       "Deccan Chargers                                    993.0                  NaN  \n",
       "Delhi Capitals                                       NaN                241.0  \n",
       "Delhi Daredevils                                   741.0                  NaN  \n",
       "Gujarat Lions                                      246.0                  NaN  \n",
       "Kings XI Punjab                                   1296.0                245.0  \n",
       "Kochi Tuskers Kerala                                 NaN                  NaN  \n",
       "Kolkata Knight Riders                             1151.0               1475.0  \n",
       "Mumbai Indians                                    1506.0                932.0  \n",
       "Pune Warriors                                        NaN                  NaN  \n",
       "Rajasthan Royals                                   746.0                479.0  \n",
       "Rising Pune Supergiant                             495.0                246.0  \n",
       "Rising Pune Supergiants                              NaN                  NaN  \n",
       "Royal Challengers Bangalore                       8986.0                836.0  \n",
       "Sunrisers Hyderabad                               1492.0               5126.0  "
      ]
     },
     "execution_count": 401,
     "metadata": {},
     "output_type": "execute_result"
    }
   ],
   "source": [
    "pivt = pd.pivot_table(data = df , values = 'dummy' , index = 'winner' , columns = 'toss_winner' , aggfunc = sum)\n",
    "pivt"
   ]
  },
  {
   "cell_type": "markdown",
   "id": "20e2b4a1",
   "metadata": {},
   "source": [
    "###### take alook on the diagonal :)"
   ]
  },
  {
   "cell_type": "code",
   "execution_count": 305,
   "id": "8ec319d7",
   "metadata": {},
   "outputs": [
    {
     "data": {
      "text/plain": [
       "<AxesSubplot:xlabel='toss_winner', ylabel='winner'>"
      ]
     },
     "execution_count": 305,
     "metadata": {},
     "output_type": "execute_result"
    },
    {
     "data": {
      "image/png": "[encoded data removed]",
      "text/plain": [
       "<Figure size 1080x576 with 2 Axes>"
      ]
     },
     "metadata": {},
     "output_type": "display_data"
    }
   ],
   "source": [
    "sns.set_theme(rc = {'figure.figsize' : (15 , 8)})\n",
    "sns.heatmap(pivt , annot = True, cmap = 'Paired')"
   ]
  },
  {
   "cell_type": "code",
   "execution_count": 315,
   "id": "c486785a",
   "metadata": {},
   "outputs": [],
   "source": [
    "sns.set_theme(context = 'notebook' , style = 'whitegrid'  , palette = 'Paired' , rc = {'figure.figsize' : (10 , 4)})"
   ]
  },
  {
   "cell_type": "markdown",
   "id": "f9d81149",
   "metadata": {},
   "source": [
    "### 6- For Gujarat Lions Team Which Player Take Player Of The Match Most ? "
   ]
  },
  {
   "cell_type": "code",
   "execution_count": 316,
   "id": "ec4eba5f",
   "metadata": {},
   "outputs": [
    {
     "data": {
      "text/plain": [
       "AJ Finch     717\n",
       "DR Smith     710\n",
       "SK Raina     468\n",
       "AJ Tye       448\n",
       "V Kohli      246\n",
       "CH Morris    242\n",
       "P Kumar      232\n",
       "Name: player_of_match, dtype: int64"
      ]
     },
     "execution_count": 316,
     "metadata": {},
     "output_type": "execute_result"
    }
   ],
   "source": [
    "df[df['winner'] == 'Gujarat Lions']['player_of_match'].value_counts()"
   ]
  },
  {
   "cell_type": "code",
   "execution_count": 317,
   "id": "a7df3e4d",
   "metadata": {},
   "outputs": [
    {
     "data": {
      "text/plain": [
       "<AxesSubplot:xlabel='player_of_match', ylabel='count'>"
      ]
     },
     "execution_count": 317,
     "metadata": {},
     "output_type": "execute_result"
    },
    {
     "data": {
      "image/png": "[encoded data removed]",
      "text/plain": [
       "<Figure size 720x288 with 1 Axes>"
      ]
     },
     "metadata": {},
     "output_type": "display_data"
    }
   ],
   "source": [
    "sns.countplot(data = df[df['winner'] == 'Gujarat Lions'] , x = 'player_of_match')"
   ]
  },
  {
   "cell_type": "markdown",
   "id": "4d9cd7c5",
   "metadata": {},
   "source": [
    "### 7- For Season (16) Which Venue Take Matches Most ?"
   ]
  },
  {
   "cell_type": "code",
   "execution_count": 328,
   "id": "69b15faa",
   "metadata": {},
   "outputs": [
    {
     "data": {
      "text/html": [
       "<div>\n",
       "<style scoped>\n",
       "    .dataframe tbody tr th:only-of-type {\n",
       "        vertical-align: middle;\n",
       "    }\n",
       "\n",
       "    .dataframe tbody tr th {\n",
       "        vertical-align: top;\n",
       "    }\n",
       "\n",
       "    .dataframe thead th {\n",
       "        text-align: right;\n",
       "    }\n",
       "</style>\n",
       "<table border=\"1\" class=\"dataframe\">\n",
       "  <thead>\n",
       "    <tr style=\"text-align: right;\">\n",
       "      <th></th>\n",
       "      <th>venue</th>\n",
       "    </tr>\n",
       "  </thead>\n",
       "  <tbody>\n",
       "    <tr>\n",
       "      <th>M Chinnaswamy Stadium</th>\n",
       "      <td>2147</td>\n",
       "    </tr>\n",
       "    <tr>\n",
       "      <th>Punjab Cricket Association IS Bindra Stadium, Mohali</th>\n",
       "      <td>1682</td>\n",
       "    </tr>\n",
       "    <tr>\n",
       "      <th>Feroz Shah Kotla</th>\n",
       "      <td>1674</td>\n",
       "    </tr>\n",
       "    <tr>\n",
       "      <th>Rajiv Gandhi International Stadium, Uppal</th>\n",
       "      <td>1630</td>\n",
       "    </tr>\n",
       "    <tr>\n",
       "      <th>Eden Gardens</th>\n",
       "      <td>1553</td>\n",
       "    </tr>\n",
       "    <tr>\n",
       "      <th>Dr. Y.S. Rajasekhara Reddy ACA-VDCA Cricket Stadium</th>\n",
       "      <td>1378</td>\n",
       "    </tr>\n",
       "    <tr>\n",
       "      <th>Saurashtra Cricket Association Stadium</th>\n",
       "      <td>1170</td>\n",
       "    </tr>\n",
       "    <tr>\n",
       "      <th>Maharashtra Cricket Association Stadium</th>\n",
       "      <td>990</td>\n",
       "    </tr>\n",
       "    <tr>\n",
       "      <th>Wankhede Stadium</th>\n",
       "      <td>939</td>\n",
       "    </tr>\n",
       "    <tr>\n",
       "      <th>Shaheed Veer Narayan Singh International Stadium</th>\n",
       "      <td>483</td>\n",
       "    </tr>\n",
       "    <tr>\n",
       "      <th>Green Park</th>\n",
       "      <td>450</td>\n",
       "    </tr>\n",
       "  </tbody>\n",
       "</table>\n",
       "</div>"
      ],
      "text/plain": [
       "                                                    venue\n",
       "M Chinnaswamy Stadium                                2147\n",
       "Punjab Cricket Association IS Bindra Stadium, M...   1682\n",
       "Feroz Shah Kotla                                     1674\n",
       "Rajiv Gandhi International Stadium, Uppal            1630\n",
       "Eden Gardens                                         1553\n",
       "Dr. Y.S. Rajasekhara Reddy ACA-VDCA Cricket Sta...   1378\n",
       "Saurashtra Cricket Association Stadium               1170\n",
       "Maharashtra Cricket Association Stadium               990\n",
       "Wankhede Stadium                                      939\n",
       "Shaheed Veer Narayan Singh International Stadium      483\n",
       "Green Park                                            450"
      ]
     },
     "execution_count": 328,
     "metadata": {},
     "output_type": "execute_result"
    }
   ],
   "source": [
    "df[df['season'] == 2016]['venue'].value_counts().to_frame()"
   ]
  },
  {
   "cell_type": "code",
   "execution_count": 330,
   "id": "827fb9a7",
   "metadata": {},
   "outputs": [
    {
     "data": {
      "text/plain": [
       "<AxesSubplot:xlabel='count', ylabel='venue'>"
      ]
     },
     "execution_count": 330,
     "metadata": {},
     "output_type": "execute_result"
    },
    {
     "data": {
      "image/png": "[encoded data removed]",
      "text/plain": [
       "<Figure size 720x288 with 1 Axes>"
      ]
     },
     "metadata": {},
     "output_type": "display_data"
    }
   ],
   "source": [
    "sns.countplot(data = df[df['season'] == 2016] , y = 'venue')"
   ]
  },
  {
   "cell_type": "markdown",
   "id": "4c9d6e98",
   "metadata": {},
   "source": [
    "### 8- For Asad Rauf Umpire, Which Teams He Was An Umpire For It Most For Each Season ?"
   ]
  },
  {
   "cell_type": "code",
   "execution_count": 345,
   "id": "c455a847",
   "metadata": {},
   "outputs": [
    {
     "data": {
      "text/plain": [
       "season  team1                      \n",
       "2013    Mumbai Indians                 982\n",
       "        Kolkata Knight Riders          958\n",
       "2008    Kolkata Knight Riders          835\n",
       "        Deccan Chargers                731\n",
       "2011    Pune Warriors                  724\n",
       "        Deccan Chargers                720\n",
       "2012    Chennai Super Kings            697\n",
       "2011    Chennai Super Kings            668\n",
       "        Royal Challengers Bangalore    500\n",
       "        Mumbai Indians                 491\n",
       "2013    Sunrisers Hyderabad            484\n",
       "2011    Kings XI Punjab                483\n",
       "2013    Pune Warriors                  481\n",
       "2012    Pune Warriors                  473\n",
       "2013    Royal Challengers Bangalore    253\n",
       "2012    Mumbai Indians                 249\n",
       "        Royal Challengers Bangalore    249\n",
       "        Kolkata Knight Riders          247\n",
       "        Rajasthan Royals               246\n",
       "        Kings XI Punjab                243\n",
       "2011    Kolkata Knight Riders          241\n",
       "        Delhi Daredevils               226\n",
       "2008    Kings XI Punjab                215\n",
       "        Chennai Super Kings            209\n",
       "2013    Delhi Daredevils               203\n",
       "2008    Mumbai Indians                 202\n",
       "dtype: int64"
      ]
     },
     "execution_count": 345,
     "metadata": {},
     "output_type": "execute_result"
    }
   ],
   "source": [
    "df[df['umpire1'] == 'Asad Rauf'][['season' , 'team1']].value_counts()"
   ]
  },
  {
   "cell_type": "code",
   "execution_count": 348,
   "id": "a0ddad0b",
   "metadata": {},
   "outputs": [
    {
     "data": {
      "text/plain": [
       "<AxesSubplot:xlabel='season', ylabel='count'>"
      ]
     },
     "execution_count": 348,
     "metadata": {},
     "output_type": "execute_result"
    },
    {
     "data": {
      "image/png": "[encoded data removed]",
      "text/plain": [
       "<Figure size 720x288 with 1 Axes>"
      ]
     },
     "metadata": {},
     "output_type": "display_data"
    }
   ],
   "source": [
    "sns.countplot(data = df[df['umpire1'] == 'Asad Rauf'] , x = 'season' , hue = 'team1')"
   ]
  },
  {
   "cell_type": "markdown",
   "id": "f3c4fe32",
   "metadata": {},
   "source": [
    "### 9- For Each Winning Team What Is Total Inning In Season 2015?"
   ]
  },
  {
   "cell_type": "code",
   "execution_count": 357,
   "id": "1d9e9a9b",
   "metadata": {},
   "outputs": [
    {
     "data": {
      "text/html": [
       "<div>\n",
       "<style scoped>\n",
       "    .dataframe tbody tr th:only-of-type {\n",
       "        vertical-align: middle;\n",
       "    }\n",
       "\n",
       "    .dataframe tbody tr th {\n",
       "        vertical-align: top;\n",
       "    }\n",
       "\n",
       "    .dataframe thead th {\n",
       "        text-align: right;\n",
       "    }\n",
       "</style>\n",
       "<table border=\"1\" class=\"dataframe\">\n",
       "  <thead>\n",
       "    <tr style=\"text-align: right;\">\n",
       "      <th></th>\n",
       "      <th>sum</th>\n",
       "    </tr>\n",
       "    <tr>\n",
       "      <th>winner</th>\n",
       "      <th></th>\n",
       "    </tr>\n",
       "  </thead>\n",
       "  <tbody>\n",
       "    <tr>\n",
       "      <th>Chennai Super Kings</th>\n",
       "      <td>3641</td>\n",
       "    </tr>\n",
       "    <tr>\n",
       "      <th>Delhi Daredevils</th>\n",
       "      <td>1752</td>\n",
       "    </tr>\n",
       "    <tr>\n",
       "      <th>Kings XI Punjab</th>\n",
       "      <td>967</td>\n",
       "    </tr>\n",
       "    <tr>\n",
       "      <th>Kolkata Knight Riders</th>\n",
       "      <td>2520</td>\n",
       "    </tr>\n",
       "    <tr>\n",
       "      <th>Mumbai Indians</th>\n",
       "      <td>3664</td>\n",
       "    </tr>\n",
       "    <tr>\n",
       "      <th>Rajasthan Royals</th>\n",
       "      <td>2615</td>\n",
       "    </tr>\n",
       "    <tr>\n",
       "      <th>Royal Challengers Bangalore</th>\n",
       "      <td>2273</td>\n",
       "    </tr>\n",
       "    <tr>\n",
       "      <th>Sunrisers Hyderabad</th>\n",
       "      <td>2465</td>\n",
       "    </tr>\n",
       "  </tbody>\n",
       "</table>\n",
       "</div>"
      ],
      "text/plain": [
       "                              sum\n",
       "winner                           \n",
       "Chennai Super Kings          3641\n",
       "Delhi Daredevils             1752\n",
       "Kings XI Punjab               967\n",
       "Kolkata Knight Riders        2520\n",
       "Mumbai Indians               3664\n",
       "Rajasthan Royals             2615\n",
       "Royal Challengers Bangalore  2273\n",
       "Sunrisers Hyderabad          2465"
      ]
     },
     "execution_count": 357,
     "metadata": {},
     "output_type": "execute_result"
    }
   ],
   "source": [
    "df[df['season'] == 2015].groupby(['winner'])['inning'].agg([np.sum])"
   ]
  },
  {
   "cell_type": "code",
   "execution_count": 358,
   "id": "f0993328",
   "metadata": {},
   "outputs": [
    {
     "data": {
      "text/plain": [
       "<AxesSubplot:xlabel='inning', ylabel='winner'>"
      ]
     },
     "execution_count": 358,
     "metadata": {},
     "output_type": "execute_result"
    },
    {
     "data": {
      "image/png": "[encoded data removed]",
      "text/plain": [
       "<Figure size 720x288 with 1 Axes>"
      ]
     },
     "metadata": {},
     "output_type": "display_data"
    }
   ],
   "source": [
    "sns.barplot(data = df[df['season'] == 2015] , y = 'winner' , x = 'inning' , estimator = np.sum)"
   ]
  },
  {
   "cell_type": "markdown",
   "id": "7f7da10c",
   "metadata": {},
   "source": [
    "### 10- Total Wide Run For Each Season For Mumbai Indians Team ?"
   ]
  },
  {
   "cell_type": "code",
   "execution_count": 374,
   "id": "843a6fe9",
   "metadata": {},
   "outputs": [
    {
     "data": {
      "text/plain": [
       "season\n",
       "2008     47\n",
       "2009     95\n",
       "2010    121\n",
       "2011     75\n",
       "2012     41\n",
       "2013     99\n",
       "2014     60\n",
       "2015    104\n",
       "2016     53\n",
       "2017     63\n",
       "2018     77\n",
       "2019     68\n",
       "Name: wide_runs, dtype: int64"
      ]
     },
     "execution_count": 374,
     "metadata": {},
     "output_type": "execute_result"
    }
   ],
   "source": [
    "df[df['team1'] == 'Mumbai Indians'].groupby(['season'])['wide_runs'].sum()"
   ]
  },
  {
   "cell_type": "code",
   "execution_count": 375,
   "id": "beeb4b67",
   "metadata": {},
   "outputs": [
    {
     "data": {
      "text/plain": [
       "<AxesSubplot:xlabel='season', ylabel='wide_runs'>"
      ]
     },
     "execution_count": 375,
     "metadata": {},
     "output_type": "execute_result"
    },
    {
     "data": {
      "image/png": "[encoded data removed]",
      "text/plain": [
       "<Figure size 720x288 with 1 Axes>"
      ]
     },
     "metadata": {},
     "output_type": "display_data"
    }
   ],
   "source": [
    "sns.barplot(data = df[df['team1'] == 'Mumbai Indians'] , x = 'season' , y = 'wide_runs' , estimator = np.sum)"
   ]
  },
  {
   "cell_type": "markdown",
   "id": "7fb9f4bd",
   "metadata": {},
   "source": [
    "### 11- Total  Bye Runs For Each Season For Mumbai Indians Team ?"
   ]
  },
  {
   "cell_type": "code",
   "execution_count": 402,
   "id": "828d0a64",
   "metadata": {},
   "outputs": [
    {
     "data": {
      "text/plain": [
       "season\n",
       "2008    17\n",
       "2009    11\n",
       "2010    10\n",
       "2011    14\n",
       "2012     2\n",
       "2013    17\n",
       "2014     5\n",
       "2015     6\n",
       "2016     9\n",
       "2017     8\n",
       "2018     9\n",
       "2019    14\n",
       "Name: bye_runs, dtype: int64"
      ]
     },
     "execution_count": 402,
     "metadata": {},
     "output_type": "execute_result"
    }
   ],
   "source": [
    "df[df['team1'] == 'Mumbai Indians'].groupby(['season'])['bye_runs'].sum()"
   ]
  },
  {
   "cell_type": "code",
   "execution_count": 403,
   "id": "0a8f0898",
   "metadata": {},
   "outputs": [
    {
     "data": {
      "text/plain": [
       "<AxesSubplot:xlabel='season', ylabel='bye_runs'>"
      ]
     },
     "execution_count": 403,
     "metadata": {},
     "output_type": "execute_result"
    },
    {
     "data": {
      "image/png": "[encoded data removed]",
      "text/plain": [
       "<Figure size 720x288 with 1 Axes>"
      ]
     },
     "metadata": {},
     "output_type": "display_data"
    }
   ],
   "source": [
    "sns.barplot(data = df[df['team1'] == 'Mumbai Indians'] , x = 'season' , y = 'bye_runs' , estimator = np.sum)"
   ]
  },
  {
   "cell_type": "markdown",
   "id": "a7b52f6a",
   "metadata": {},
   "source": [
    "### 12- Total Legbye Runs For Each Season For Mumbai Indians Team ?"
   ]
  },
  {
   "cell_type": "code",
   "execution_count": 404,
   "id": "41dd6f71",
   "metadata": {},
   "outputs": [
    {
     "data": {
      "text/plain": [
       "season\n",
       "2008    45\n",
       "2009    48\n",
       "2010    62\n",
       "2011    49\n",
       "2012    30\n",
       "2013    45\n",
       "2014    47\n",
       "2015    39\n",
       "2016    35\n",
       "2017    41\n",
       "2018    37\n",
       "2019    43\n",
       "Name: legbye_runs, dtype: int64"
      ]
     },
     "execution_count": 404,
     "metadata": {},
     "output_type": "execute_result"
    }
   ],
   "source": [
    "df[df['team1'] == 'Mumbai Indians'].groupby(['season'])['legbye_runs'].sum()"
   ]
  },
  {
   "cell_type": "code",
   "execution_count": 405,
   "id": "0ac730ba",
   "metadata": {},
   "outputs": [
    {
     "data": {
      "text/plain": [
       "<AxesSubplot:xlabel='season', ylabel='legbye_runs'>"
      ]
     },
     "execution_count": 405,
     "metadata": {},
     "output_type": "execute_result"
    },
    {
     "data": {
      "image/png": "[encoded data removed]",
      "text/plain": [
       "<Figure size 720x288 with 1 Axes>"
      ]
     },
     "metadata": {},
     "output_type": "display_data"
    }
   ],
   "source": [
    "sns.barplot(data = df[df['team1'] == 'Mumbai Indians'] , x = 'season' , y = 'legbye_runs' , estimator = np.sum)"
   ]
  },
  {
   "cell_type": "markdown",
   "id": "a46e2277",
   "metadata": {},
   "source": [
    "### 13- Total Noball Runs For Each Season For Mumbai Indians Team ?"
   ]
  },
  {
   "cell_type": "code",
   "execution_count": 406,
   "id": "3c4a63c8",
   "metadata": {},
   "outputs": [
    {
     "data": {
      "text/plain": [
       "season\n",
       "2008    10\n",
       "2009    10\n",
       "2010    18\n",
       "2011     4\n",
       "2012     7\n",
       "2013    11\n",
       "2014     6\n",
       "2015    19\n",
       "2016     8\n",
       "2017     2\n",
       "2018     8\n",
       "2019     8\n",
       "Name: noball_runs, dtype: int64"
      ]
     },
     "execution_count": 406,
     "metadata": {},
     "output_type": "execute_result"
    }
   ],
   "source": [
    "df[df['team1'] == 'Mumbai Indians'].groupby(['season'])['noball_runs'].sum()"
   ]
  },
  {
   "cell_type": "code",
   "execution_count": 407,
   "id": "b6b3e8d4",
   "metadata": {},
   "outputs": [
    {
     "data": {
      "text/plain": [
       "<AxesSubplot:xlabel='season', ylabel='noball_runs'>"
      ]
     },
     "execution_count": 407,
     "metadata": {},
     "output_type": "execute_result"
    },
    {
     "data": {
      "image/png": "[encoded data removed]",
      "text/plain": [
       "<Figure size 720x288 with 1 Axes>"
      ]
     },
     "metadata": {},
     "output_type": "display_data"
    }
   ],
   "source": [
    "sns.barplot(data = df[df['team1'] == 'Mumbai Indians'] , x = 'season' , y = 'noball_runs' , estimator = np.sum)"
   ]
  },
  {
   "cell_type": "markdown",
   "id": "9c925155",
   "metadata": {},
   "source": [
    "### 14- Total Penalty Runs For Each Season For Mumbai Indians Team ?"
   ]
  },
  {
   "cell_type": "code",
   "execution_count": 408,
   "id": "e0290156",
   "metadata": {},
   "outputs": [
    {
     "data": {
      "text/plain": [
       "season\n",
       "2008    0\n",
       "2009    0\n",
       "2010    0\n",
       "2011    0\n",
       "2012    0\n",
       "2013    0\n",
       "2014    5\n",
       "2015    0\n",
       "2016    0\n",
       "2017    0\n",
       "2018    0\n",
       "2019    0\n",
       "Name: penalty_runs, dtype: int64"
      ]
     },
     "execution_count": 408,
     "metadata": {},
     "output_type": "execute_result"
    }
   ],
   "source": [
    "df[df['team1'] == 'Mumbai Indians'].groupby(['season'])['penalty_runs'].sum()"
   ]
  },
  {
   "cell_type": "code",
   "execution_count": 409,
   "id": "b32489ac",
   "metadata": {},
   "outputs": [
    {
     "data": {
      "text/plain": [
       "<AxesSubplot:xlabel='season', ylabel='penalty_runs'>"
      ]
     },
     "execution_count": 409,
     "metadata": {},
     "output_type": "execute_result"
    },
    {
     "data": {
      "image/png": "[encoded data removed]",
      "text/plain": [
       "<Figure size 720x288 with 1 Axes>"
      ]
     },
     "metadata": {},
     "output_type": "display_data"
    }
   ],
   "source": [
    "sns.barplot(data = df[df['team1'] == 'Mumbai Indians'] , x = 'season' , y = 'penalty_runs' , estimator = np.sum)"
   ]
  },
  {
   "cell_type": "markdown",
   "id": "3dbb8052",
   "metadata": {},
   "source": [
    "### 15- Total Batsman Runs For Each Season For Mumbai Indians Team ?"
   ]
  },
  {
   "cell_type": "code",
   "execution_count": 410,
   "id": "fd30bd83",
   "metadata": {},
   "outputs": [
    {
     "data": {
      "text/plain": [
       "season\n",
       "2008    1793\n",
       "2009    2176\n",
       "2010    3325\n",
       "2011    2225\n",
       "2012    1658\n",
       "2013    3157\n",
       "2014    2094\n",
       "2015    3301\n",
       "2016    2000\n",
       "2017    1677\n",
       "2018    3111\n",
       "2019    3156\n",
       "Name: batsman_runs, dtype: int64"
      ]
     },
     "execution_count": 410,
     "metadata": {},
     "output_type": "execute_result"
    }
   ],
   "source": [
    "df[df['team1'] == 'Mumbai Indians'].groupby(['season'])['batsman_runs'].sum()"
   ]
  },
  {
   "cell_type": "code",
   "execution_count": 411,
   "id": "f16c9156",
   "metadata": {},
   "outputs": [
    {
     "data": {
      "text/plain": [
       "<AxesSubplot:xlabel='season', ylabel='batsman_runs'>"
      ]
     },
     "execution_count": 411,
     "metadata": {},
     "output_type": "execute_result"
    },
    {
     "data": {
      "image/png": "[encoded data removed]",
      "text/plain": [
       "<Figure size 720x288 with 1 Axes>"
      ]
     },
     "metadata": {},
     "output_type": "display_data"
    }
   ],
   "source": [
    "sns.barplot(data = df[df['team1'] == 'Mumbai Indians'] , x = 'season' , y = 'batsman_runs' , estimator = np.sum)"
   ]
  },
  {
   "cell_type": "markdown",
   "id": "06c79116",
   "metadata": {},
   "source": [
    "### 16- Total Extra Runs For Each Season For Mumbai Indians Team ?"
   ]
  },
  {
   "cell_type": "code",
   "execution_count": 413,
   "id": "b0bde53d",
   "metadata": {},
   "outputs": [
    {
     "data": {
      "text/plain": [
       "season\n",
       "2008    119\n",
       "2009    164\n",
       "2010    211\n",
       "2011    142\n",
       "2012     80\n",
       "2013    172\n",
       "2014    123\n",
       "2015    168\n",
       "2016    105\n",
       "2017    114\n",
       "2018    131\n",
       "2019    133\n",
       "Name: extra_runs, dtype: int64"
      ]
     },
     "execution_count": 413,
     "metadata": {},
     "output_type": "execute_result"
    }
   ],
   "source": [
    "cnt = df[df['team1'] == 'Mumbai Indians'].groupby(['season'])['extra_runs'].sum()\n",
    "cnt"
   ]
  },
  {
   "cell_type": "code",
   "execution_count": 414,
   "id": "24887d80",
   "metadata": {},
   "outputs": [
    {
     "data": {
      "text/plain": [
       "<AxesSubplot:xlabel='season'>"
      ]
     },
     "execution_count": 414,
     "metadata": {},
     "output_type": "execute_result"
    },
    {
     "data": {
      "image/png": "[encoded data removed]",
      "text/plain": [
       "<Figure size 720x288 with 1 Axes>"
      ]
     },
     "metadata": {},
     "output_type": "display_data"
    }
   ],
   "source": [
    "sns.lineplot(x = cnt.index , y = cnt.values)"
   ]
  },
  {
   "cell_type": "code",
   "execution_count": 399,
   "id": "8a33a670",
   "metadata": {},
   "outputs": [],
   "source": [
    "#df.to_csv('Indian Premier League.csv' , index = False)"
   ]
  },
  {
   "cell_type": "code",
   "execution_count": null,
   "id": "103b6c40",
   "metadata": {},
   "outputs": [],
   "source": []
  }
 ],
 "metadata": {
  "kernelspec": {
   "display_name": "Python 3 (ipykernel)",
   "language": "python",
   "name": "python3"
  },
  "language_info": {
   "codemirror_mode": {
    "name": "ipython",
    "version": 3
   },
   "file_extension": ".py",
   "mimetype": "text/x-python",
   "name": "python",
   "nbconvert_exporter": "python",
   "pygments_lexer": "ipython3",
   "version": "3.10.4"
  }
 },
 "nbformat": 4,
 "nbformat_minor": 5
}
